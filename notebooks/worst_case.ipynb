{
 "cells": [
  {
   "cell_type": "code",
   "execution_count": 1,
   "metadata": {},
   "outputs": [
    {
     "ename": "ModuleNotFoundError",
     "evalue": "No module named 'ruspy'",
     "output_type": "error",
     "traceback": [
      "\u001b[0;31m---------------------------------------------------------------------------\u001b[0m",
      "\u001b[0;31mModuleNotFoundError\u001b[0m                       Traceback (most recent call last)",
      "\u001b[0;32m<ipython-input-1-a50453c592e1>\u001b[0m in \u001b[0;36m<module>\u001b[0;34m\u001b[0m\n\u001b[0;32m----> 1\u001b[0;31m \u001b[0;32mfrom\u001b[0m \u001b[0mruspy\u001b[0m\u001b[0;34m.\u001b[0m\u001b[0mestimation\u001b[0m\u001b[0;34m.\u001b[0m\u001b[0mestimation_cost_parameters\u001b[0m \u001b[0;32mimport\u001b[0m \u001b[0mcreate_transition_matrix\u001b[0m\u001b[0;34m\u001b[0m\u001b[0;34m\u001b[0m\u001b[0m\n\u001b[0m",
      "\u001b[0;31mModuleNotFoundError\u001b[0m: No module named 'ruspy'"
     ]
    }
   ],
   "source": [
    "from ruspy.estimation.estimation_cost_parameters import create_transition_matrix"
   ]
  },
  {
   "cell_type": "code",
   "execution_count": 2,
   "metadata": {},
   "outputs": [],
   "source": [
    "from robupy.auxiliary import get_worst_case_probs"
   ]
  },
  {
   "cell_type": "code",
   "execution_count": null,
   "metadata": {},
   "outputs": [],
   "source": [
    "def calc_fixp(num_states, p_ml, costs, beta, threshold=1e-12, max_it=1000000):\n",
    "    \"\"\"\n",
    "    The function to calculate the expected value fix point.\n",
    "\n",
    "    :param num_states:  The size of the state space.\n",
    "    :type num_states:   int\n",
    "    :param trans_mat:   A two dimensional numpy array containing a s x s markov\n",
    "                        transition matrix.\n",
    "    :param costs:       A two dimensional float numpy array containing for each\n",
    "                        state the cost to maintain in the first and to replace the bus\n",
    "                        engine in the second column.\n",
    "    :param beta:        The discount factor.\n",
    "    :type beta:         float\n",
    "    :param threshold:   A threshold for the convergence. By default set to 1e-6.\n",
    "    :type threshold:    float\n",
    "    :param max_it:      Maximum number of iterations. By default set to 1000000.\n",
    "    :type max_it:       int\n",
    "\n",
    "    :return: A numpy array containing for each state the expected value fixed point.\n",
    "    \"\"\"\n",
    "    ev = np.zeros(num_states)\n",
    "    ev_new = np.dot(trans_mat, np.log(np.sum(np.exp(-costs), axis=1)))\n",
    "    while (np.max(np.abs(ev_new - ev)) > threshold) & (max_it != 0):\n",
    "        ev = ev_new\n",
    "        maint_cost = beta * ev - costs[:, 0]\n",
    "        repl_cost = beta * ev[0] - costs[0, 1] - costs[0, 0]\n",
    "        ev_min = maint_cost[0]\n",
    "        log_sum = ev_min + np.log(\n",
    "            np.exp(maint_cost - ev_min) + np.exp(repl_cost - ev_min)\n",
    "        )\n",
    "        ev_new = np.dot(trans_mat, log_sum)\n",
    "        max_it -= 1\n",
    "    return ev_new"
   ]
  }
 ],
 "metadata": {
  "kernelspec": {
   "display_name": "Python 3",
   "language": "python",
   "name": "python3"
  },
  "language_info": {
   "codemirror_mode": {
    "name": "ipython",
    "version": 3
   },
   "file_extension": ".py",
   "mimetype": "text/x-python",
   "name": "python",
   "nbconvert_exporter": "python",
   "pygments_lexer": "ipython3",
   "version": "3.7.4"
  }
 },
 "nbformat": 4,
 "nbformat_minor": 2
}
