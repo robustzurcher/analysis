{
 "cells": [
  {
   "cell_type": "code",
   "execution_count": 1,
   "metadata": {},
   "outputs": [
    {
     "name": "stdout",
     "output_type": "stream",
     "text": [
      "The autoreload extension is already loaded. To reload it, use:\n",
      "  %reload_ext autoreload\n"
     ]
    }
   ],
   "source": [
    "%load_ext autoreload\n",
    "\n",
    "%autoreload 2\n",
    "import numpy as np\n",
    "from scipy.stats import chi2\n",
    "from robupy.auxiliary import get_worst_case_probs\n",
    "from ruspy.estimation.estimation_cost_parameters import (\n",
    "    lin_cost,\n",
    "    cost_func,\n",
    "    create_transition_matrix,\n",
    "    calc_fixp\n",
    ")\n",
    "from scripts.worst_case_probs import calc_fixp_worst, create_worst_trans_mat"
   ]
  },
  {
   "cell_type": "code",
   "execution_count": 2,
   "metadata": {},
   "outputs": [],
   "source": [
    "num_states = 20\n",
    "beta = 0.9999\n",
    "params = np.array([10, 2.7])\n",
    "costs = cost_func(num_states, lin_cost, params)\n",
    "p_ml = np.array([0.39189189, 0.59529357, 0.01281454])\n",
    "omega = 0.95\n",
    "rho = chi2.ppf(omega, len(p_ml) - 1) / (2 * 4292)\n",
    "# rho = 0\n",
    "threshold = 1e-8"
   ]
  },
  {
   "cell_type": "code",
   "execution_count": 3,
   "metadata": {},
   "outputs": [],
   "source": [
    "worst_ev, worst_trans_mat = calc_fixp_worst(num_states, p_ml, costs, beta, rho, threshold=threshold)"
   ]
  },
  {
   "cell_type": "code",
   "execution_count": 5,
   "metadata": {},
   "outputs": [],
   "source": [
    "trans_mat = create_transition_matrix(num_states, p_ml)\n",
    "ev = calc_fixp(num_states, trans_mat, costs, beta, threshold=threshold)"
   ]
  },
  {
   "cell_type": "code",
   "execution_count": 6,
   "metadata": {},
   "outputs": [],
   "source": [
    "def Kullback_Leibler(p, p_ml):\n",
    "    \"\"\"\n",
    "    This function calculate the Kullback Leibler Divergence of p and p_ml.\n",
    "    :param p:\n",
    "    :param p_ml:\n",
    "    :return:\n",
    "    \"\"\"\n",
    "    return np.sum(np.multiply(p, np.log(np.divide(p, p_ml))))"
   ]
  },
  {
   "cell_type": "code",
   "execution_count": null,
   "metadata": {},
   "outputs": [],
   "source": []
  }
 ],
 "metadata": {
  "kernelspec": {
   "display_name": "Python 3",
   "language": "python",
   "name": "python3"
  },
  "language_info": {
   "codemirror_mode": {
    "name": "ipython",
    "version": 3
   },
   "file_extension": ".py",
   "mimetype": "text/x-python",
   "name": "python",
   "nbconvert_exporter": "python",
   "pygments_lexer": "ipython3",
   "version": "3.7.4"
  }
 },
 "nbformat": 4,
 "nbformat_minor": 4
}
