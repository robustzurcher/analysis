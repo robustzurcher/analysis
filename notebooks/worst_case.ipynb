{
 "cells": [
  {
   "cell_type": "code",
   "execution_count": 1,
   "metadata": {},
   "outputs": [
    {
     "name": "stdout",
     "output_type": "stream",
     "text": [
      "The autoreload extension is already loaded. To reload it, use:\n",
      "  %reload_ext autoreload\n"
     ]
    }
   ],
   "source": [
    "%load_ext autoreload\n",
    "\n",
    "%autoreload 2\n",
    "import numpy as np\n",
    "from scipy.stats import chi2\n",
    "import numba\n",
    "from robupy.auxiliary import get_worst_case_probs\n",
    "from ruspy.estimation.estimation_cost_parameters import (\n",
    "    lin_cost,\n",
    "    cost_func,\n",
    "    create_transition_matrix,\n",
    "    calc_fixp\n",
    ")\n",
    "from worst_case_probs import calc_fixp_worst"
   ]
  },
  {
   "cell_type": "code",
   "execution_count": 2,
   "metadata": {},
   "outputs": [],
   "source": [
    "num_states = 50\n",
    "beta = 0.9999\n",
    "params = np.array([10, 2.7])\n",
    "costs = cost_func(num_states, lin_cost, params)\n",
    "p_ml = np.array([0.39189189, 0.59529357, 0.01281454])\n",
    "omega = 0.95\n",
    "rho = chi2.ppf(omega, len(p_ml) - 1) / (2 * 4292)\n",
    "# rho = 0\n",
    "threshold = 1e-8"
   ]
  },
  {
   "cell_type": "code",
   "execution_count": 3,
   "metadata": {},
   "outputs": [],
   "source": [
    "worst_ev, worst_trans_mat = calc_fixp_worst(num_states, p_ml, costs, beta, rho, threshold=threshold)"
   ]
  },
  {
   "cell_type": "code",
   "execution_count": 4,
   "metadata": {},
   "outputs": [],
   "source": [
    "trans_mat = create_transition_matrix(num_states, p_ml)\n",
    "ev = calc_fixp(num_states, trans_mat, costs, beta, threshold=threshold)"
   ]
  },
  {
   "cell_type": "code",
   "execution_count": 5,
   "metadata": {},
   "outputs": [
    {
     "data": {
      "text/plain": [
       "array([-1257.50081025, -1257.69479204, -1257.88460211, -1258.07024298,\n",
       "       -1258.25171767, -1258.42902973, -1258.60218331, -1258.77118314,\n",
       "       -1258.93603466, -1259.096744  , -1259.25331809, -1259.40576461,\n",
       "       -1259.55409206, -1259.69830983, -1259.83842806, -1259.97445782,\n",
       "       -1260.10641097, -1260.2342983 , -1260.3582489 , -1260.47826963,\n",
       "       -1260.59436801, -1260.70655203, -1260.81483008, -1260.91921081,\n",
       "       -1261.01970291, -1261.11631498, -1261.20905528, -1261.29793153,\n",
       "       -1261.38295066, -1261.46411854, -1261.54143974, -1261.61491726,\n",
       "       -1261.68455223, -1261.75034369, -1261.81228828, -1261.87038   ,\n",
       "       -1261.92461004, -1261.97496649, -1262.0214342 , -1262.06399466,\n",
       "       -1262.10262585, -1262.13730224, -1262.16799472, -1262.19467069,\n",
       "       -1262.21729415, -1262.23582585, -1262.25022353, -1262.26044221,\n",
       "       -1262.26643447, -1262.26815291])"
      ]
     },
     "execution_count": 5,
     "metadata": {},
     "output_type": "execute_result"
    }
   ],
   "source": [
    "worst_ev"
   ]
  },
  {
   "cell_type": "code",
   "execution_count": 6,
   "metadata": {},
   "outputs": [
    {
     "data": {
      "text/plain": [
       "array([-1251.23577399, -1251.43477826, -1251.62948403, -1251.81989412,\n",
       "       -1252.00601185, -1252.18784117, -1252.36538669, -1252.53865372,\n",
       "       -1252.70764837, -1252.87237758, -1253.03284917, -1253.18907191,\n",
       "       -1253.34105551, -1253.48881069, -1253.63234917, -1253.77168367,\n",
       "       -1253.9068279 , -1254.0377965 , -1254.16460501, -1254.28726977,\n",
       "       -1254.40580781, -1254.52023674, -1254.63057459, -1254.7368396 ,\n",
       "       -1254.83905008, -1254.93722412, -1255.03137941, -1255.12153291,\n",
       "       -1255.20770062, -1255.28989727, -1255.36813604, -1255.44242822,\n",
       "       -1255.51278297, -1255.57920697, -1255.64170417, -1255.70027553,\n",
       "       -1255.75491877, -1255.80562817, -1255.85239439, -1255.89520435,\n",
       "       -1255.93404115, -1255.96888402, -1255.99970836, -1256.02648584,\n",
       "       -1256.04918452, -1256.0677691 , -1256.08220119, -1256.09243966,\n",
       "       -1256.09844103, -1256.10016196])"
      ]
     },
     "execution_count": 6,
     "metadata": {},
     "output_type": "execute_result"
    }
   ],
   "source": [
    "ev"
   ]
  },
  {
   "cell_type": "code",
   "execution_count": null,
   "metadata": {},
   "outputs": [],
   "source": []
  }
 ],
 "metadata": {
  "kernelspec": {
   "display_name": "Python 3",
   "language": "python",
   "name": "python3"
  },
  "language_info": {
   "codemirror_mode": {
    "name": "ipython",
    "version": 3
   },
   "file_extension": ".py",
   "mimetype": "text/x-python",
   "name": "python",
   "nbconvert_exporter": "python",
   "pygments_lexer": "ipython3",
   "version": "3.7.4"
  }
 },
 "nbformat": 4,
 "nbformat_minor": 4
}
