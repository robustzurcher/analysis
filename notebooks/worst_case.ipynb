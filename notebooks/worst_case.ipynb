{
 "cells": [
  {
   "cell_type": "code",
   "execution_count": 2,
   "metadata": {},
   "outputs": [
    {
     "name": "stdout",
     "output_type": "stream",
     "text": [
      "The autoreload extension is already loaded. To reload it, use:\n",
      "  %reload_ext autoreload\n"
     ]
    },
    {
     "ename": "ModuleNotFoundError",
     "evalue": "No module named 'robupy'",
     "output_type": "error",
     "traceback": [
      "\u001b[0;31m---------------------------------------------------------------------------\u001b[0m",
      "\u001b[0;31mModuleNotFoundError\u001b[0m                       Traceback (most recent call last)",
      "\u001b[0;32m<ipython-input-2-30936b8c1b39>\u001b[0m in \u001b[0;36m<module>\u001b[0;34m()\u001b[0m\n\u001b[1;32m      6\u001b[0m \u001b[0;32mfrom\u001b[0m \u001b[0mscipy\u001b[0m\u001b[0;34m.\u001b[0m\u001b[0mstats\u001b[0m \u001b[0;32mimport\u001b[0m \u001b[0mchi2\u001b[0m\u001b[0;34m\u001b[0m\u001b[0m\n\u001b[1;32m      7\u001b[0m \u001b[0;32mimport\u001b[0m \u001b[0mnumba\u001b[0m\u001b[0;34m\u001b[0m\u001b[0m\n\u001b[0;32m----> 8\u001b[0;31m \u001b[0;32mfrom\u001b[0m \u001b[0mrobupy\u001b[0m\u001b[0;34m.\u001b[0m\u001b[0mauxiliary\u001b[0m \u001b[0;32mimport\u001b[0m \u001b[0mget_worst_case_probs\u001b[0m\u001b[0;34m\u001b[0m\u001b[0m\n\u001b[0m\u001b[1;32m      9\u001b[0m from ruspy.estimation.estimation_cost_parameters import (\n\u001b[1;32m     10\u001b[0m     \u001b[0mlin_cost\u001b[0m\u001b[0;34m,\u001b[0m\u001b[0;34m\u001b[0m\u001b[0m\n",
      "\u001b[0;31mModuleNotFoundError\u001b[0m: No module named 'robupy'"
     ]
    }
   ],
   "source": [
    "%load_ext autoreload\n",
    "\n",
    "%autoreload 2\n",
    "import numpy as np\n",
    "import numba\n",
    "from scipy.stats import chi2\n",
    "import numba\n",
    "from robupy.auxiliary import get_worst_case_probs\n",
    "from ruspy.estimation.estimation_cost_parameters import (\n",
    "    lin_cost,\n",
    "    cost_func,\n",
    "    create_transition_matrix,\n",
    "    calc_fixp\n",
    ")"
   ]
  },
  {
   "cell_type": "code",
   "execution_count": 2,
   "metadata": {},
   "outputs": [],
   "source": [
    "num_states = 50\n",
    "beta = 0.9999\n",
    "params = np.array([10, 2.7])\n",
    "costs = cost_func(num_states, lin_cost, params)\n",
    "p_ml = np.array([0.39189189, 0.59529357, 0.01281454])\n",
    "omega = 0.95\n",
    "rho = chi2.ppf(omega, len(p_ml) - 1) / (2 * 4292)\n",
    "# rho = 0"
   ]
  },
  {
   "cell_type": "code",
   "execution_count": 3,
   "metadata": {},
   "outputs": [],
   "source": [
    "@numba.jit(nopython=True)\n",
    "def calc_fixp_worst(num_states, p_ml, costs, beta, rho, threshold=1e-12, max_it=1000000):\n",
    "    \"\"\"\n",
    "    The function to calculate the expected value fix point.\n",
    "\n",
    "    :param num_states:  The size of the state space.\n",
    "    :type num_states:   int\n",
    "    :param trans_mat:   A two dimensional numpy array containing a s x s markov\n",
    "                        transition matrix.\n",
    "    :param costs:       A two dimensional float numpy array containing for each\n",
    "                        state the cost to maintain in the first and to replace the bus\n",
    "                        engine in the second column.\n",
    "    :param beta:        The discount factor.\n",
    "    :type beta:         float\n",
    "    :param threshold:   A threshold for the convergence. By default set to 1e-6.\n",
    "    :type threshold:    float\n",
    "    :param max_it:      Maximum number of iterations. By default set to 1000000.\n",
    "    :type max_it:       int\n",
    "\n",
    "    :return: A numpy array containing for each state the expected value fixed point.\n",
    "    \"\"\"\n",
    "    dim_p = len(p_ml)\n",
    "    ev = np.zeros(num_states)\n",
    "    trans_mat = create_transition_matrix(num_states, p_ml)\n",
    "    ev_new = np.dot(trans_mat, np.log(np.sum(np.exp(-costs), axis=1)))\n",
    "    while (np.max(np.abs(ev_new - ev)) > threshold) & (max_it != 0):\n",
    "        ev = ev_new\n",
    "        maint_cost = beta * ev - costs[:, 0]\n",
    "        repl_cost = beta * ev[0] - costs[0, 1] - costs[0, 0]\n",
    "        ev_min = maint_cost[0]\n",
    "        log_sum = ev_min + np.log(\n",
    "            np.exp(maint_cost - ev_min) + np.exp(repl_cost - ev_min)\n",
    "        )\n",
    "        worst_trans_mat = np.zeros(shape=(num_states, num_states), dtype=(np.float64))\n",
    "        for s in range(num_states - dim_p):\n",
    "            p = trans_mat[s, s : s + dim_p]\n",
    "            v = log_sum[s : s + dim_p]\n",
    "            worst_trans_mat[s, s: s + dim_p] = get_worst_case_probs(v, p, rho, is_cost=False)\n",
    "        for i in range(2, dim_p + 1): # Indexing from the back starts with 1\n",
    "            v = log_sum[-i:]\n",
    "            p = trans_mat[-i, -i:]\n",
    "            worst_trans_mat[-i, -i:] = get_worst_case_probs(v, p, rho, is_cost=False)\n",
    "        worst_trans_mat[-1, -1] = 1\n",
    "        ev_new = np.dot(worst_trans_mat, log_sum)\n",
    "        max_it -= 1\n",
    "    if max_it == 0:\n",
    "        print(\"The value function didn't converge.\")  \n",
    "    return ev_new, worst_trans_mat"
   ]
  },
  {
   "cell_type": "code",
   "execution_count": 4,
   "metadata": {},
   "outputs": [
    {
     "name": "stdout",
     "output_type": "stream",
     "text": [
      "990000\n",
      "980000\n",
      "970000\n",
      "960000\n",
      "950000\n",
      "940000\n",
      "930000\n",
      "920000\n",
      "910000\n",
      "900000\n",
      "890000\n",
      "880000\n",
      "870000\n",
      "860000\n",
      "850000\n",
      "840000\n",
      "830000\n",
      "820000\n",
      "810000\n",
      "800000\n",
      "790000\n",
      "780000\n",
      "770000\n",
      "760000\n",
      "750000\n",
      "740000\n",
      "730000\n",
      "720000\n",
      "710000\n",
      "700000\n",
      "690000\n",
      "680000\n",
      "670000\n",
      "660000\n",
      "650000\n",
      "640000\n",
      "630000\n",
      "620000\n",
      "610000\n",
      "600000\n",
      "590000\n",
      "580000\n",
      "570000\n",
      "560000\n",
      "550000\n",
      "540000\n",
      "530000\n",
      "520000\n",
      "510000\n",
      "500000\n",
      "490000\n",
      "480000\n",
      "470000\n",
      "460000\n",
      "450000\n",
      "440000\n",
      "430000\n",
      "420000\n",
      "410000\n",
      "400000\n",
      "390000\n",
      "380000\n",
      "370000\n",
      "360000\n",
      "350000\n",
      "340000\n",
      "330000\n",
      "320000\n",
      "310000\n",
      "300000\n",
      "290000\n",
      "280000\n",
      "270000\n",
      "260000\n",
      "250000\n",
      "240000\n",
      "230000\n",
      "220000\n",
      "210000\n",
      "200000\n",
      "190000\n",
      "180000\n",
      "170000\n",
      "160000\n",
      "150000\n",
      "140000\n",
      "130000\n",
      "120000\n",
      "110000\n",
      "100000\n",
      "90000\n",
      "80000\n",
      "70000\n",
      "60000\n",
      "50000\n",
      "40000\n",
      "30000\n",
      "20000\n",
      "10000\n",
      "0\n",
      "The value function didn't converge.\n"
     ]
    }
   ],
   "source": [
    "worst_ev, worst_trans_mat = calc_fixp_worst(num_states, p_ml, costs, beta, rho)"
   ]
  },
  {
   "cell_type": "code",
   "execution_count": 5,
   "metadata": {},
   "outputs": [],
   "source": [
    "trans_mat = create_transition_matrix(num_states, p_ml)\n",
    "ev = calc_fixp(num_states, trans_mat, costs, beta)"
   ]
  },
  {
   "cell_type": "code",
   "execution_count": 8,
   "metadata": {},
   "outputs": [
    {
     "data": {
      "text/plain": [
       "array([[0.37416461, 0.61168642, 0.01414897, ..., 0.        , 0.        ,\n",
       "        0.        ],\n",
       "       [0.        , 0.37416433, 0.61168712, ..., 0.        , 0.        ,\n",
       "        0.        ],\n",
       "       [0.        , 0.        , 0.37416384, ..., 0.        , 0.        ,\n",
       "        0.        ],\n",
       "       ...,\n",
       "       [0.        , 0.        , 0.        , ..., 0.39072236, 0.59640738,\n",
       "        0.01287026],\n",
       "       [0.        , 0.        , 0.        , ..., 0.        , 0.39130355,\n",
       "        0.60869645],\n",
       "       [0.        , 0.        , 0.        , ..., 0.        , 0.        ,\n",
       "        1.        ]])"
      ]
     },
     "execution_count": 8,
     "metadata": {},
     "output_type": "execute_result"
    }
   ],
   "source": [
    "worst_trans_mat"
   ]
  },
  {
   "cell_type": "code",
   "execution_count": null,
   "metadata": {},
   "outputs": [],
   "source": []
  }
 ],
 "metadata": {
  "kernelspec": {
   "display_name": "Python 3",
   "language": "python",
   "name": "python3"
  },
  "language_info": {
   "codemirror_mode": {
    "name": "ipython",
    "version": 3
   },
   "file_extension": ".py",
   "mimetype": "text/x-python",
   "name": "python",
   "nbconvert_exporter": "python",
   "pygments_lexer": "ipython3",
   "version": "3.7.0"
  }
 },
 "nbformat": 4,
 "nbformat_minor": 4
}
