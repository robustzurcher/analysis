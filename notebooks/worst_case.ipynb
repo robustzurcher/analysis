{
 "cells": [
  {
   "cell_type": "code",
   "execution_count": 1,
   "metadata": {},
   "outputs": [
    {
     "name": "stdout",
     "output_type": "stream",
     "text": [
      "The autoreload extension is already loaded. To reload it, use:\n",
      "  %reload_ext autoreload\n"
     ]
    }
   ],
   "source": [
    "%load_ext autoreload\n",
    "\n",
    "%autoreload 2\n",
    "import numpy as np\n",
    "from scipy.stats import chi2\n",
    "from robupy.auxiliary import get_worst_case_probs\n",
    "from ruspy.estimation.estimation_cost_parameters import (\n",
    "    lin_cost,\n",
    "    cost_func,\n",
    "    create_transition_matrix,\n",
    "    calc_fixp\n",
    ")\n",
    "from scripts.worst_case_probs import calc_fixp_worst, create_worst_trans_mat"
   ]
  },
  {
   "cell_type": "code",
   "execution_count": 78,
   "metadata": {},
   "outputs": [],
   "source": [
    "num_states = 20\n",
    "beta = 0.9999\n",
    "p_ml = np.loadtxt(\"scripts/resources/rust_trans_probs.txt\")\n",
    "params = np.loadtxt(\"scripts/resources/rust_cost_params.txt\")\n",
    "costs = cost_func(num_states, lin_cost, params)\n",
    "omega = 0.5\n",
    "rho = chi2.ppf(omega, len(p_ml) - 1) / (2 * (4292 / 78))\n",
    "# rho = 0\n",
    "threshold = 1e-16"
   ]
  },
  {
   "cell_type": "code",
   "execution_count": 83,
   "metadata": {},
   "outputs": [],
   "source": [
    "worst_ev, worst_trans_mat = calc_fixp_worst(num_states, p_ml, costs, beta, rho)"
   ]
  },
  {
   "cell_type": "code",
   "execution_count": 84,
   "metadata": {},
   "outputs": [
    {
     "data": {
      "text/plain": [
       "array([-434.55577516, -434.61559001, -434.67214614, -434.72544308,\n",
       "       -434.77548033, -434.8222574 , -434.86577373, -434.90602875,\n",
       "       -434.94302187, -434.97675244, -435.00721979, -435.03442322,\n",
       "       -435.058362  , -435.07903536, -435.09644248, -435.11058245,\n",
       "       -435.12145431, -435.12905685, -435.13338831, -435.13444555])"
      ]
     },
     "execution_count": 84,
     "metadata": {},
     "output_type": "execute_result"
    }
   ],
   "source": [
    "worst_ev"
   ]
  },
  {
   "cell_type": "code",
   "execution_count": 81,
   "metadata": {},
   "outputs": [],
   "source": [
    "trans_mat = create_transition_matrix(num_states, p_ml)\n",
    "ev = calc_fixp(num_states, trans_mat, costs, beta, threshold=threshold)"
   ]
  },
  {
   "cell_type": "code",
   "execution_count": 82,
   "metadata": {},
   "outputs": [
    {
     "data": {
      "text/plain": [
       "array([-434.41056755, -434.47838874, -434.54253047, -434.6029922 ,\n",
       "       -434.65977335, -434.7128733 , -434.76229141, -434.80802697,\n",
       "       -434.85007927, -434.88844751, -434.92313088, -434.95412852,\n",
       "       -434.98143953, -435.00506297, -435.02499787, -435.04124322,\n",
       "       -435.053798  , -435.06266114, -435.06783154, -435.06930979])"
      ]
     },
     "execution_count": 82,
     "metadata": {},
     "output_type": "execute_result"
    }
   ],
   "source": [
    "ev"
   ]
  },
  {
   "cell_type": "code",
   "execution_count": 59,
   "metadata": {},
   "outputs": [],
   "source": [
    "def Kullback_Leibler(p, p_ml):\n",
    "    \"\"\"\n",
    "    This function calculate the Kullback Leibler Divergence of p and p_ml.\n",
    "    :param p:\n",
    "    :param p_ml:\n",
    "    :return:\n",
    "    \"\"\"\n",
    "    return np.sum(np.multiply(p, np.log(np.divide(p, p_ml))))"
   ]
  }
 ],
 "metadata": {
  "kernelspec": {
   "display_name": "Python 3",
   "language": "python",
   "name": "python3"
  },
  "language_info": {
   "codemirror_mode": {
    "name": "ipython",
    "version": 3
   },
   "file_extension": ".py",
   "mimetype": "text/x-python",
   "name": "python",
   "nbconvert_exporter": "python",
   "pygments_lexer": "ipython3",
   "version": "3.7.4"
  }
 },
 "nbformat": 4,
 "nbformat_minor": 4
}
