{
 "cells": [
  {
   "cell_type": "code",
   "execution_count": 5,
   "metadata": {},
   "outputs": [],
   "source": [
    "import scipy.interpolate as interp\n",
    "from ruspy.estimation.estimation_transitions import create_transition_matrix\n",
    "from ruspy.model_code.cost_functions import calc_obs_costs\n",
    "from ruspy.model_code.cost_functions import lin_cost\n",
    "from ruspy.model_code.fix_point_alg import calc_fixp\n",
    "from config import DATA_DIR\n",
    "from global_vals_funcs import VAL_RESULTS"
   ]
  },
  {
   "cell_type": "code",
   "execution_count": 2,
   "metadata": {},
   "outputs": [],
   "source": [
    "# Load data. This step will be replaced when we have different data.\n",
    "df = performance_dataframe()\n",
    "df_meaned = df.mean(level=0)"
   ]
  },
  {
   "cell_type": "code",
   "execution_count": null,
   "metadata": {},
   "outputs": [],
   "source": [
    "# Load the probability grid from the data.\n",
    "grid_probs = pkl.load(open(f\"{DATA_DIR}/grid.pkl\", \"rb\"))\n",
    "samples = pkl.load(open(f\"{DATA_DIR}/samples.pkl\", \"rb\"))"
   ]
  },
  {
   "cell_type": "code",
   "execution_count": 6,
   "metadata": {},
   "outputs": [
    {
     "data": {
      "text/plain": [
       "(55, 100, 3)"
      ]
     },
     "execution_count": 6,
     "metadata": {},
     "output_type": "execute_result"
    }
   ],
   "source": [
    "samples.shape"
   ]
  },
  {
   "cell_type": "code",
   "execution_count": 17,
   "metadata": {},
   "outputs": [],
   "source": [
    "for id_grid in range(0, 57):\n",
    "    for id_sample in range(100):\n",
    "        for id_omega in range(len(VAL_STRATS)):\n",
    "            res = pkl.load(open(f\"{DATA_DIR}/validation_results/grid_{id_grid}_sample_{id_sample}_{id_omega}.pkl\", \"rb\"))"
   ]
  },
  {
   "cell_type": "code",
   "execution_count": 3,
   "metadata": {},
   "outputs": [],
   "source": [
    "sample_cols = [\"p_0\", \"p_1\", \"p_2\"]"
   ]
  },
  {
   "cell_type": "code",
   "execution_count": 4,
   "metadata": {},
   "outputs": [
    {
     "data": {
      "text/plain": [
       "(array([[2.22044605e-16, 2.22044605e-16, 1.00000000e+00],\n",
       "        [2.22044605e-16, 1.81818182e-02, 9.81818182e-01],\n",
       "        [2.22044605e-16, 3.63636364e-02, 9.63636364e-01],\n",
       "        [1.81818182e-02, 2.22044605e-16, 9.81818182e-01],\n",
       "        [1.81818182e-02, 1.81818182e-02, 9.63636364e-01],\n",
       "        [1.81818182e-02, 3.63636364e-02, 9.45454545e-01],\n",
       "        [3.63636364e-02, 2.22044605e-16, 9.63636364e-01]]),\n",
       " array([65, 15,  3, 12,  2,  1,  2]))"
      ]
     },
     "execution_count": 4,
     "metadata": {},
     "output_type": "execute_result"
    }
   ],
   "source": [
    "np.unique(df.loc[(0, slice(None)), :][sample_cols].values, axis=0, return_counts=True)"
   ]
  },
  {
   "cell_type": "markdown",
   "metadata": {},
   "source": [
    "# Evaluation grid\n",
    "\n",
    "Now creat an evaluation grid on which we will later interpolate the performance and then apply the decision criteria."
   ]
  },
  {
   "cell_type": "code",
   "execution_count": 3,
   "metadata": {},
   "outputs": [],
   "source": []
  },
  {
   "cell_type": "code",
   "execution_count": 4,
   "metadata": {},
   "outputs": [
    {
     "data": {
      "text/plain": [
       "(55, 3)"
      ]
     },
     "execution_count": 4,
     "metadata": {},
     "output_type": "execute_result"
    }
   ],
   "source": [
    "grid_probs.shape"
   ]
  },
  {
   "cell_type": "code",
   "execution_count": 6,
   "metadata": {},
   "outputs": [
    {
     "data": {
      "text/plain": [
       "0.0153245241694843"
      ]
     },
     "execution_count": 6,
     "metadata": {},
     "output_type": "execute_result"
    }
   ],
   "source": [
    "q = grid_probs[0]\n",
    "p = samples[0, 10]\n",
    "np.sum(np.multiply(p, np.log(np.divide(p, q))))"
   ]
  },
  {
   "cell_type": "code",
   "execution_count": 7,
   "metadata": {},
   "outputs": [
    {
     "data": {
      "text/plain": [
       "0.0153245241694843"
      ]
     },
     "execution_count": 7,
     "metadata": {},
     "output_type": "execute_result"
    }
   ],
   "source": [
    "np.sum(np.multiply(p, np.log(np.divide(p, q))))"
   ]
  },
  {
   "cell_type": "code",
   "execution_count": 8,
   "metadata": {},
   "outputs": [
    {
     "data": {
      "text/plain": [
       "array([2.22044605e-16, 1.81818182e-02, 9.81818182e-01])"
      ]
     },
     "execution_count": 8,
     "metadata": {},
     "output_type": "execute_result"
    }
   ],
   "source": [
    "p"
   ]
  },
  {
   "cell_type": "code",
   "execution_count": 9,
   "metadata": {},
   "outputs": [
    {
     "data": {
      "text/plain": [
       "array([0.1, 0.4, 0.5])"
      ]
     },
     "execution_count": 9,
     "metadata": {},
     "output_type": "execute_result"
    }
   ],
   "source": [
    "grid_probs[14]"
   ]
  },
  {
   "cell_type": "code",
   "execution_count": 10,
   "metadata": {},
   "outputs": [
    {
     "data": {
      "text/plain": [
       "array([0.5, 0.3, 0.2])"
      ]
     },
     "execution_count": 10,
     "metadata": {},
     "output_type": "execute_result"
    }
   ],
   "source": [
    "grid_probs[43]"
   ]
  },
  {
   "cell_type": "code",
   "execution_count": 11,
   "metadata": {},
   "outputs": [],
   "source": [
    "# The omega grid only to the maximum selected omega.\n",
    "omega_grid = np.arange(0, 1, 0.01)\n",
    "one_dim_prob_grid = np.arange(0, 0.9, 0.01)\n",
    "one_dim_prob_grid[0] += 0.005\n",
    "interpol_prob_grid = create_prob_grid(one_dim_prob_grid, 3)\n",
    "adapted_grid = interpol_prob_grid[(interpol_prob_grid[:, 0] >= 0.05) & (interpol_prob_grid[:, 1] >= 0.05) & (interpol_prob_grid[:, 0] <= 0.9) & (interpol_prob_grid[:, 1] <= 0.9) & (interpol_prob_grid[:, 2] > 0.1)]"
   ]
  },
  {
   "cell_type": "markdown",
   "metadata": {},
   "source": [
    "# Interpolation and apply criteria"
   ]
  },
  {
   "cell_type": "code",
   "execution_count": 12,
   "metadata": {},
   "outputs": [],
   "source": [
    "omega_vals = df.loc[(0, slice(None)), list(VAL_STRATS)].to_numpy()"
   ]
  },
  {
   "cell_type": "code",
   "execution_count": 13,
   "metadata": {},
   "outputs": [
    {
     "data": {
      "text/plain": [
       "array([[-84149.00772127, -84149.00772127, -84149.00772127, ...,\n",
       "        -84149.00772127, -84149.00772127, -84149.00772127],\n",
       "       [-84149.00772127, -84149.00772127, -84149.00772127, ...,\n",
       "        -84149.00772127, -84149.00772127, -84149.00772127],\n",
       "       [-84149.00772127, -84149.00772127, -84149.00772127, ...,\n",
       "        -84149.00772127, -84149.00772127, -84149.00772127],\n",
       "       ...,\n",
       "       [-84149.00772127, -84149.00772127, -84149.00772127, ...,\n",
       "        -84149.00772127, -84149.00772127, -84149.00772127],\n",
       "       [-84149.00772127, -84149.00772127, -84149.00772127, ...,\n",
       "        -84149.00772127, -84149.00772127, -84149.00772127],\n",
       "       [-84149.00772127, -84149.00772127, -84149.00772127, ...,\n",
       "        -84149.00772127, -84149.00772127, -84149.00772127]])"
      ]
     },
     "execution_count": 13,
     "metadata": {},
     "output_type": "execute_result"
    }
   ],
   "source": [
    "omega_vals"
   ]
  },
  {
   "cell_type": "code",
   "execution_count": 14,
   "metadata": {},
   "outputs": [
    {
     "data": {
      "text/plain": [
       "(100, 11)"
      ]
     },
     "execution_count": 14,
     "metadata": {},
     "output_type": "execute_result"
    }
   ],
   "source": [
    "omega_vals.shape"
   ]
  },
  {
   "cell_type": "code",
   "execution_count": 15,
   "metadata": {},
   "outputs": [
    {
     "data": {
      "text/plain": [
       "-5.298317366548036"
      ]
     },
     "execution_count": 15,
     "metadata": {},
     "output_type": "execute_result"
    }
   ],
   "source": [
    "np.log(0.005)"
   ]
  },
  {
   "cell_type": "code",
   "execution_count": 16,
   "metadata": {},
   "outputs": [],
   "source": [
    "omega_interpol_vals = np.zeros((grid_probs.shape[0], len(omega_grid)))\n",
    "for id_grid, gridpoint in enumerate(grid_probs):\n",
    "    omega_interpol_vals[id_grid, :] = interp.griddata(VAL_STRATS, omega_vals[id_grid, :], omega_grid, method=\"linear\")"
   ]
  },
  {
   "cell_type": "code",
   "execution_count": 17,
   "metadata": {},
   "outputs": [
    {
     "data": {
      "text/plain": [
       "(55, 100)"
      ]
     },
     "execution_count": 17,
     "metadata": {},
     "output_type": "execute_result"
    }
   ],
   "source": [
    "omega_interpol_vals.shape"
   ]
  },
  {
   "cell_type": "code",
   "execution_count": 18,
   "metadata": {},
   "outputs": [],
   "source": [
    "final_interpol_vals = np.zeros((adapted_grid.shape[0], len(omega_grid)))\n",
    "for omega_id in range(len(omega_grid)):\n",
    "    final_interpol_vals[:, omega_id] = interp.griddata(grid_probs[:, :2], omega_interpol_vals[:, omega_id], adapted_grid[:, :2], method=\"linear\")"
   ]
  },
  {
   "cell_type": "markdown",
   "metadata": {},
   "source": [
    "## Minimax regret"
   ]
  },
  {
   "cell_type": "code",
   "execution_count": 19,
   "metadata": {},
   "outputs": [],
   "source": [
    "# omegas_mean = np.mean(omega_interpol_vals, axis=0)\n",
    "# normalized_mean = filter_normalize(omegas_mean)\n"
   ]
  },
  {
   "cell_type": "code",
   "execution_count": 20,
   "metadata": {},
   "outputs": [],
   "source": [
    "# regrets_omega = df_meaned.loc[:, \"best\"].to_numpy().reshape(55, 1) - omega_interpol_vals\n",
    "# max_regret = np.max(regrets_omega, axis=0)\n",
    "# normalized_regret = filter_normalize(max_regret * -1)"
   ]
  },
  {
   "cell_type": "code",
   "execution_count": 21,
   "metadata": {},
   "outputs": [
    {
     "data": {
      "text/html": [
       "<div>\n",
       "<style scoped>\n",
       "    .dataframe tbody tr th:only-of-type {\n",
       "        vertical-align: middle;\n",
       "    }\n",
       "\n",
       "    .dataframe tbody tr th {\n",
       "        vertical-align: top;\n",
       "    }\n",
       "\n",
       "    .dataframe thead th {\n",
       "        text-align: right;\n",
       "    }\n",
       "</style>\n",
       "<table border=\"1\" class=\"dataframe\">\n",
       "  <thead>\n",
       "    <tr style=\"text-align: right;\">\n",
       "      <th></th>\n",
       "      <th>months</th>\n",
       "      <th>disc_strategy</th>\n",
       "      <th>exp_value</th>\n",
       "    </tr>\n",
       "  </thead>\n",
       "  <tbody>\n",
       "    <tr>\n",
       "      <th>0</th>\n",
       "      <td>0</td>\n",
       "      <td>0.000000</td>\n",
       "      <td>-46985.962594</td>\n",
       "    </tr>\n",
       "    <tr>\n",
       "      <th>1</th>\n",
       "      <td>1000</td>\n",
       "      <td>-5051.336957</td>\n",
       "      <td>-46985.962594</td>\n",
       "    </tr>\n",
       "    <tr>\n",
       "      <th>2</th>\n",
       "      <td>2000</td>\n",
       "      <td>-9653.143746</td>\n",
       "      <td>-46985.962594</td>\n",
       "    </tr>\n",
       "    <tr>\n",
       "      <th>3</th>\n",
       "      <td>3000</td>\n",
       "      <td>-13812.102103</td>\n",
       "      <td>-46985.962594</td>\n",
       "    </tr>\n",
       "    <tr>\n",
       "      <th>4</th>\n",
       "      <td>4000</td>\n",
       "      <td>-17579.902280</td>\n",
       "      <td>-46985.962594</td>\n",
       "    </tr>\n",
       "    <tr>\n",
       "      <th>...</th>\n",
       "      <td>...</td>\n",
       "      <td>...</td>\n",
       "      <td>...</td>\n",
       "    </tr>\n",
       "    <tr>\n",
       "      <th>96</th>\n",
       "      <td>96000</td>\n",
       "      <td>-53390.028609</td>\n",
       "      <td>-46985.962594</td>\n",
       "    </tr>\n",
       "    <tr>\n",
       "      <th>97</th>\n",
       "      <td>97000</td>\n",
       "      <td>-53390.372477</td>\n",
       "      <td>-46985.962594</td>\n",
       "    </tr>\n",
       "    <tr>\n",
       "      <th>98</th>\n",
       "      <td>98000</td>\n",
       "      <td>-53390.683862</td>\n",
       "      <td>-46985.962594</td>\n",
       "    </tr>\n",
       "    <tr>\n",
       "      <th>99</th>\n",
       "      <td>99000</td>\n",
       "      <td>-53390.965687</td>\n",
       "      <td>-46985.962594</td>\n",
       "    </tr>\n",
       "    <tr>\n",
       "      <th>100</th>\n",
       "      <td>100000</td>\n",
       "      <td>-53391.220789</td>\n",
       "      <td>-46985.962594</td>\n",
       "    </tr>\n",
       "  </tbody>\n",
       "</table>\n",
       "<p>101 rows × 3 columns</p>\n",
       "</div>"
      ],
      "text/plain": [
       "     months  disc_strategy     exp_value\n",
       "0         0       0.000000 -46985.962594\n",
       "1      1000   -5051.336957 -46985.962594\n",
       "2      2000   -9653.143746 -46985.962594\n",
       "3      3000  -13812.102103 -46985.962594\n",
       "4      4000  -17579.902280 -46985.962594\n",
       "..      ...            ...           ...\n",
       "96    96000  -53390.028609 -46985.962594\n",
       "97    97000  -53390.372477 -46985.962594\n",
       "98    98000  -53390.683862 -46985.962594\n",
       "99    99000  -53390.965687 -46985.962594\n",
       "100  100000  -53391.220789 -46985.962594\n",
       "\n",
       "[101 rows x 3 columns]"
      ]
     },
     "execution_count": 21,
     "metadata": {},
     "output_type": "execute_result"
    }
   ],
   "source": [
    "get_decision_rule_df()"
   ]
  }
 ],
 "metadata": {
  "kernelspec": {
   "display_name": "Python 3",
   "language": "python",
   "name": "python3"
  },
  "language_info": {
   "codemirror_mode": {
    "name": "ipython",
    "version": 3
   },
   "file_extension": ".py",
   "mimetype": "text/x-python",
   "name": "python",
   "nbconvert_exporter": "python",
   "pygments_lexer": "ipython3",
   "version": "3.7.7"
  }
 },
 "nbformat": 4,
 "nbformat_minor": 4
}
