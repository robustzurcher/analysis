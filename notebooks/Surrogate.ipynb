{
 "cells": [
  {
   "cell_type": "code",
   "execution_count": 1,
   "metadata": {},
   "outputs": [],
   "source": [
    "import scipy.interpolate as interp\n",
    "from ruspy.estimation.estimation_transitions import create_transition_matrix\n",
    "from ruspy.model_code.cost_functions import calc_obs_costs\n",
    "from ruspy.model_code.cost_functions import lin_cost\n",
    "from ruspy.model_code.fix_point_alg import calc_fixp"
   ]
  },
  {
   "cell_type": "code",
   "execution_count": 2,
   "metadata": {},
   "outputs": [],
   "source": [
    "# Load data. This step will be replaced when we have different data.\n",
    "df = performance_dataframe()\n",
    "df_sorted = df.loc[(slice(None), \"average_three_dim\"), :].reset_index(drop=True).drop([\"p_0\", \"p_1\", \"p_2\"], axis=1)"
   ]
  },
  {
   "cell_type": "markdown",
   "metadata": {},
   "source": [
    "# Processing\n",
    "\n",
    "Process the simulated data to get a combined probablity and omega grid as well as their simulated values."
   ]
  },
  {
   "cell_type": "code",
   "execution_count": 3,
   "metadata": {},
   "outputs": [],
   "source": [
    "# Set all stratgies simulated. Later this should reflect the whole range between 0 and 1.\n",
    "omega_strategies = [0.0, 0.1, 0.2, 0.3, 0.4, 0.5]\n",
    "# Read out the simulated probability grid from the data.\n",
    "grid_probs = df_sorted.loc[:, [\"p_0_true\", \"p_1_true\", \"p_2_true\"]].to_numpy()"
   ]
  },
  {
   "cell_type": "code",
   "execution_count": 4,
   "metadata": {},
   "outputs": [],
   "source": [
    "# Create container for the combined simulated grid of probailities and omegas\n",
    "work_grid = np.array([[0, 0, 0]])\n",
    "values = np.array([])\n",
    "for omega in omega_strategies:\n",
    "    edit_grid = grid_probs\n",
    "    edit_grid[:, 2] = omega\n",
    "    work_grid = np.append(work_grid, grid_probs, axis=0)\n",
    "    values = np.append(values, df_sorted.loc[:, omega].to_numpy(), axis=0)\n",
    "# Kick out the initialization row\n",
    "grid = work_grid[1:, :]"
   ]
  },
  {
   "cell_type": "markdown",
   "metadata": {},
   "source": [
    "# Evaluation grid\n",
    "\n",
    "Now creat an evaluation grid on which we will later interpolate the performance and then apply the decision criteria."
   ]
  },
  {
   "cell_type": "code",
   "execution_count": 5,
   "metadata": {},
   "outputs": [],
   "source": [
    "def create_eval_prob_omega_grid(prob_gridsize, omega_grid):\n",
    "    \"\"\"\n",
    "    This function creates for an arbitray probability and omega gridsize,\n",
    "    the grid which will later be evaluated i.e. the values interpolated.\n",
    "    \"\"\"\n",
    "    vectors = []\n",
    "    # The probabilities go from 0 to 1\n",
    "    x = y = np.arange(0.01, 1, prob_gridsize)\n",
    "    for omega in omega_grid:\n",
    "        for p_1 in x:\n",
    "            for p_2 in y:\n",
    "                if p_1 == 0 or p_2 == 0:\n",
    "                    pass\n",
    "                elif p_1 + p_2 >= 1:\n",
    "                    pass\n",
    "                else:\n",
    "                    vectors += [[p_1, p_2, omega]]\n",
    "    return np.array(vectors).round(2)"
   ]
  },
  {
   "cell_type": "code",
   "execution_count": 6,
   "metadata": {},
   "outputs": [],
   "source": [
    "# The omega grid only to the maximum selected omega.\n",
    "omega_grid = np.arange(0, 0.51, 0.01)\n",
    "eval_grid = create_eval_prob_omega_grid(0.01, omega_grid)"
   ]
  },
  {
   "cell_type": "markdown",
   "metadata": {},
   "source": [
    "# Interpolation and apply criteria"
   ]
  },
  {
   "cell_type": "code",
   "execution_count": 7,
   "metadata": {},
   "outputs": [],
   "source": [
    "# Interpolate the evaluation grid.\n",
    "interpol_vals = interp.griddata(grid, values, eval_grid, method=\"linear\")"
   ]
  },
  {
   "cell_type": "code",
   "execution_count": 8,
   "metadata": {},
   "outputs": [],
   "source": [
    "# Reshape evaluation grid and values such that they are sorted by omega\n",
    "omega_eval_grid = eval_grid.reshape(len(omega_grid), int(eval_grid.shape[0] / len(omega_grid)), 3)\n",
    "omega_values = interpol_vals.reshape(len(omega_grid), int(eval_grid.shape[0] / len(omega_grid)))"
   ]
  },
  {
   "cell_type": "markdown",
   "metadata": {},
   "source": [
    "## Minimax"
   ]
  },
  {
   "cell_type": "code",
   "execution_count": 9,
   "metadata": {},
   "outputs": [
    {
     "data": {
      "text/plain": [
       "array([-83859.99010979, -83859.78756997, -83859.58503016, -83859.38249035,\n",
       "       -83859.17995053, -83858.97741072, -83858.7748709 , -83858.57233109,\n",
       "       -83858.36979128, -83858.16725146, -83857.96471165, -83857.92045262,\n",
       "       -83857.8761936 , -83857.83193457, -83857.78767555, -83857.74341652,\n",
       "       -83857.6991575 , -83857.65489847, -83857.61063944, -83857.56638042,\n",
       "       -83857.52212139, -83857.48774878, -83857.45337617, -83857.41900356,\n",
       "       -83857.38463096, -83857.35025835, -83857.31588574, -83857.28151313,\n",
       "       -83857.24714052, -83857.21276791, -83857.1783953 , -83857.17196709,\n",
       "       -83857.16553889, -83857.15911068, -83857.15268248, -83857.14625428,\n",
       "       -83857.13982607, -83857.13339787, -83857.12696966, -83857.12054146,\n",
       "       -83857.11411325, -83857.11208642, -83857.11005958, -83857.10803274,\n",
       "       -83857.1060059 , -83857.10397907, -83857.10195223, -83857.09992539,\n",
       "       -83857.09789855, -83857.09587172, -83857.09384488])"
      ]
     },
     "execution_count": 9,
     "metadata": {},
     "output_type": "execute_result"
    }
   ],
   "source": [
    "# Now get min for each omega. Replace nans with 0 as all values are negative, this will not conflict \n",
    "# with choosing minimum. The nans are there becaus the evaulation grid goes beyond the simulated probability grid.\n",
    "# Something we could avoid, but not necessary needed.\n",
    "omegas_min = np.min(np.nan_to_num(omega_values, nan=0), axis=1)\n",
    "omegas_min"
   ]
  },
  {
   "cell_type": "code",
   "execution_count": 10,
   "metadata": {},
   "outputs": [
    {
     "data": {
      "text/plain": [
       "0.5"
      ]
     },
     "execution_count": 10,
     "metadata": {},
     "output_type": "execute_result"
    }
   ],
   "source": [
    "# Get argmax omega\n",
    "omega_grid[np.argmax(omegas_min)]"
   ]
  },
  {
   "cell_type": "code",
   "execution_count": 11,
   "metadata": {},
   "outputs": [
    {
     "data": {
      "text/plain": [
       "[<matplotlib.lines.Line2D at 0x7f2637db6d90>]"
      ]
     },
     "execution_count": 11,
     "metadata": {},
     "output_type": "execute_result"
    },
    {
     "data": {
      "image/png": "[encoded data removed]",
      "text/plain": [
       "<Figure size 432x288 with 1 Axes>"
      ]
     },
     "metadata": {
      "needs_background": "light"
     },
     "output_type": "display_data"
    }
   ],
   "source": [
    "fig, ax = plt.subplots()\n",
    "ax.plot(omega_grid, omegas_min)"
   ]
  },
  {
   "cell_type": "markdown",
   "metadata": {},
   "source": [
    "## Subjective Bayes"
   ]
  },
  {
   "cell_type": "code",
   "execution_count": 12,
   "metadata": {},
   "outputs": [
    {
     "data": {
      "text/plain": [
       "array([-60190.86773862, -60191.36055434, -60191.78406429, -60192.12119062,\n",
       "       -60192.36067833, -60192.4898167 , -60192.49589502, -60192.36620257,\n",
       "       -60192.08802864, -60191.64804226, -60194.40948473, -60193.33079417,\n",
       "       -60194.13700296, -60194.98679398, -60195.86753952, -60196.76661181,\n",
       "       -60197.67138312, -60198.5692257 , -60199.44751182, -60200.29361372,\n",
       "       -60202.66736114, -60203.47159812, -60204.8303998 , -60206.18330454,\n",
       "       -60207.54078036, -60208.91413413, -60210.31467271, -60211.75370297,\n",
       "       -60213.24253177, -60214.79330482, -60213.60348308, -60216.73880964,\n",
       "       -60218.30557867, -60219.82790911, -60221.29364602, -60222.69021465,\n",
       "       -60224.00504026, -60225.22554811, -60226.33916345, -60227.33289174,\n",
       "       -60228.17260425, -60225.41029111, -60227.9710333 , -60230.40944699,\n",
       "       -60232.77631729, -60235.12215193, -60237.49745861, -60239.95274504,\n",
       "       -60242.53851894, -60245.30528801, -60248.30355995])"
      ]
     },
     "execution_count": 12,
     "metadata": {},
     "output_type": "execute_result"
    }
   ],
   "source": [
    "omegas_mean = np.nanmean(omega_values, axis=1)\n",
    "omegas_mean"
   ]
  },
  {
   "cell_type": "code",
   "execution_count": 13,
   "metadata": {},
   "outputs": [
    {
     "data": {
      "text/plain": [
       "0.0"
      ]
     },
     "execution_count": 13,
     "metadata": {},
     "output_type": "execute_result"
    }
   ],
   "source": [
    "# Get argmax \n",
    "omega_grid[np.argmax(omegas_mean)]"
   ]
  },
  {
   "cell_type": "code",
   "execution_count": 14,
   "metadata": {},
   "outputs": [
    {
     "data": {
      "text/plain": [
       "[<matplotlib.lines.Line2D at 0x7f2637ca45d0>]"
      ]
     },
     "execution_count": 14,
     "metadata": {},
     "output_type": "execute_result"
    },
    {
     "data": {
      "image/png": "[encoded data removed]",
      "text/plain": [
       "<Figure size 432x288 with 1 Axes>"
      ]
     },
     "metadata": {
      "needs_background": "light"
     },
     "output_type": "display_data"
    }
   ],
   "source": [
    "fig, ax = plt.subplots()\n",
    "ax.plot(omega_grid, omegas_mean)"
   ]
  },
  {
   "cell_type": "markdown",
   "metadata": {},
   "source": [
    "## Minimax regret"
   ]
  },
  {
   "cell_type": "code",
   "execution_count": 15,
   "metadata": {},
   "outputs": [],
   "source": [
    "# # Create regret on each grid point. This takes quite some time\n",
    "# num_states = 40\n",
    "# obs_costs = calc_obs_costs(num_states, lin_cost, np.array([50, 400]), 0.001)\n",
    "# regrets = np.empty_like(interpol_vals)\n",
    "# for i, grid_point in enumerate(eval_grid):\n",
    "#     prob = np.append(grid_point[:2], 1 - np.sum(grid_point[:2]))\n",
    "#     trans_mat = create_transition_matrix(num_states, prob)\n",
    "#     ev_ml, _, _ = calc_fixp(trans_mat, obs_costs, 0.9999)\n",
    "#     regrets[i] = ev_ml[0] - interpol_vals[i]"
   ]
  },
  {
   "cell_type": "code",
   "execution_count": 16,
   "metadata": {},
   "outputs": [],
   "source": [
    "# regrets_omega = regrets.reshape(len(omega_grid), int(regrets.shape[0] / len(omega_grid)))"
   ]
  },
  {
   "cell_type": "code",
   "execution_count": 17,
   "metadata": {},
   "outputs": [],
   "source": [
    "# fig, ax = plt.subplots()\n",
    "# ax.plot(omega_grid, np.nanmin(regrets_omega, axis=1))"
   ]
  },
  {
   "cell_type": "code",
   "execution_count": null,
   "metadata": {},
   "outputs": [],
   "source": []
  }
 ],
 "metadata": {
  "kernelspec": {
   "display_name": "Python 3",
   "language": "python",
   "name": "python3"
  },
  "language_info": {
   "codemirror_mode": {
    "name": "ipython",
    "version": 3
   },
   "file_extension": ".py",
   "mimetype": "text/x-python",
   "name": "python",
   "nbconvert_exporter": "python",
   "pygments_lexer": "ipython3",
   "version": "3.7.7"
  }
 },
 "nbformat": 4,
 "nbformat_minor": 4
}
