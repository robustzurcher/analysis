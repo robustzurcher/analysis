{
 "cells": [
  {
   "cell_type": "code",
   "execution_count": 1,
   "metadata": {},
   "outputs": [],
   "source": [
    "import scipy.interpolate as interp"
   ]
  },
  {
   "cell_type": "code",
   "execution_count": 2,
   "metadata": {},
   "outputs": [],
   "source": [
    "# Load data. This step will be replaced when we have different data.\n",
    "df = performance_dataframe()\n",
    "df_sorted = df.loc[(slice(None), \"average_three_dim\"), :].reset_index(drop=True).drop([\"p_0\", \"p_1\", \"p_2\"], axis=1)"
   ]
  },
  {
   "cell_type": "markdown",
   "metadata": {},
   "source": [
    "# Processing\n",
    "\n",
    "Process the simulated data to get a combined probablity and omega grid as well as their simulated values."
   ]
  },
  {
   "cell_type": "code",
   "execution_count": 3,
   "metadata": {},
   "outputs": [],
   "source": [
    "# Set all stratgies simulated. Later this should reflect the whole range between 0 and 1.\n",
    "omega_strategies = [0.0, 0.1, 0.2, 0.3, 0.4, 0.5]\n",
    "# Read out the simulated probability grid from the data.\n",
    "grid_probs = df_sorted.loc[:, [\"p_0_true\", \"p_1_true\", \"p_2_true\"]].to_numpy()"
   ]
  },
  {
   "cell_type": "code",
   "execution_count": 4,
   "metadata": {},
   "outputs": [],
   "source": [
    "# Create container for the combined simulated grid of probailities and omegas\n",
    "work_grid = np.array([[0, 0, 0]])\n",
    "values = np.array([])\n",
    "for omega in omega_strategies:\n",
    "    edit_grid = grid_probs\n",
    "    edit_grid[:, 2] = omega\n",
    "    work_grid = np.append(work_grid, grid_probs, axis=0)\n",
    "    values = np.append(values, df_sorted.loc[:, omega].to_numpy(), axis=0)\n",
    "# Kick out the initialization row\n",
    "grid = work_grid[1:, :]"
   ]
  },
  {
   "cell_type": "markdown",
   "metadata": {},
   "source": [
    "# Evaluation grid\n",
    "\n",
    "Now creat an evaluation grid on which we will later interpolate the performance and then apply the decision criteria."
   ]
  },
  {
   "cell_type": "code",
   "execution_count": 5,
   "metadata": {},
   "outputs": [],
   "source": [
    "def create_eval_prob_omega_grid(prob_gridsize, omega_grid):\n",
    "    \"\"\"\n",
    "    This function creates for an arbitray probability and omega gridsize,\n",
    "    the grid which will later be evaluated i.e. the values interpolated.\n",
    "    \"\"\"\n",
    "    vectors = []\n",
    "    # The probabilities go from 0 to 1\n",
    "    x = y = np.arange(0.01, 1, prob_gridsize)\n",
    "    for omega in omega_grid:\n",
    "        for p_1 in x:\n",
    "            for p_2 in y:\n",
    "                if p_1 == 0 or p_2 == 0:\n",
    "                    pass\n",
    "                elif p_1 + p_2 >= 1:\n",
    "                    pass\n",
    "                else:\n",
    "                    vectors += [[p_1, p_2, omega]]\n",
    "    return np.array(vectors).round(2)"
   ]
  },
  {
   "cell_type": "code",
   "execution_count": 6,
   "metadata": {},
   "outputs": [],
   "source": [
    "# The omega grid only to the maximum selected omega.\n",
    "omega_grid = np.arange(0, 0.51, 0.01)\n",
    "eval_grid = create_eval_prob_omega_grid(0.01, omega_grid)"
   ]
  },
  {
   "cell_type": "markdown",
   "metadata": {},
   "source": [
    "# Interpolation and apply criteria"
   ]
  },
  {
   "cell_type": "code",
   "execution_count": 7,
   "metadata": {},
   "outputs": [],
   "source": [
    "# Interpolate the evaluation grid.\n",
    "interpol_vals = interp.griddata(grid, values, eval_grid, method=\"linear\")"
   ]
  },
  {
   "cell_type": "code",
   "execution_count": 8,
   "metadata": {},
   "outputs": [],
   "source": [
    "# Reshape evaluation grid and values such that they are sorted by omega\n",
    "omega_eval_grid = eval_grid.reshape(len(omega_grid), int(eval_grid.shape[0] / len(omega_grid)), 3)\n",
    "omega_values = interpol_vals.reshape(len(omega_grid), int(eval_grid.shape[0] / len(omega_grid)))"
   ]
  },
  {
   "cell_type": "code",
   "execution_count": 9,
   "metadata": {},
   "outputs": [
    {
     "data": {
      "text/plain": [
       "array([-83859.99010979, -83859.78756997, -83859.58503016, -83859.38249035,\n",
       "       -83859.17995053, -83858.97741072, -83858.7748709 , -83858.57233109,\n",
       "       -83858.36979128, -83858.16725146, -83857.96471165, -83857.92045262,\n",
       "       -83857.8761936 , -83857.83193457, -83857.78767555, -83857.74341652,\n",
       "       -83857.6991575 , -83857.65489847, -83857.61063944, -83857.56638042,\n",
       "       -83857.52212139, -83857.48774878, -83857.45337617, -83857.41900356,\n",
       "       -83857.38463096, -83857.35025835, -83857.31588574, -83857.28151313,\n",
       "       -83857.24714052, -83857.21276791, -83857.1783953 , -83857.17196709,\n",
       "       -83857.16553889, -83857.15911068, -83857.15268248, -83857.14625428,\n",
       "       -83857.13982607, -83857.13339787, -83857.12696966, -83857.12054146,\n",
       "       -83857.11411325, -83857.11208642, -83857.11005958, -83857.10803274,\n",
       "       -83857.1060059 , -83857.10397907, -83857.10195223, -83857.09992539,\n",
       "       -83857.09789855, -83857.09587172, -83857.09384488])"
      ]
     },
     "execution_count": 9,
     "metadata": {},
     "output_type": "execute_result"
    }
   ],
   "source": [
    "# Now get min for each omega. Replace nans with 0 as all values are negative, this will not conflict \n",
    "# with choosing minimum. The nans are there becaus the evaulation grid goes beyond the simulated probability grid.\n",
    "# Something we could avoid, but not necessary needed.\n",
    "np.min(np.nan_to_num(omega_values, nan=0), axis=1)"
   ]
  },
  {
   "cell_type": "code",
   "execution_count": 10,
   "metadata": {},
   "outputs": [
    {
     "data": {
      "text/plain": [
       "0.5"
      ]
     },
     "execution_count": 10,
     "metadata": {},
     "output_type": "execute_result"
    }
   ],
   "source": [
    "# Get argmax omega\n",
    "omega_grid[np.argmax(np.min(np.nan_to_num(omega_values, nan=0), axis=1))]"
   ]
  }
 ],
 "metadata": {
  "kernelspec": {
   "display_name": "Python 3",
   "language": "python",
   "name": "python3"
  },
  "language_info": {
   "codemirror_mode": {
    "name": "ipython",
    "version": 3
   },
   "file_extension": ".py",
   "mimetype": "text/x-python",
   "name": "python",
   "nbconvert_exporter": "python",
   "pygments_lexer": "ipython3",
   "version": "3.7.7"
  }
 },
 "nbformat": 4,
 "nbformat_minor": 4
}
