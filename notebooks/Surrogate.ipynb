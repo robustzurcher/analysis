{
 "cells": [
  {
   "cell_type": "code",
   "execution_count": 43,
   "metadata": {},
   "outputs": [],
   "source": [
    "import scipy.interpolate as interp"
   ]
  },
  {
   "cell_type": "code",
   "execution_count": 24,
   "metadata": {},
   "outputs": [],
   "source": [
    "df = performance_dataframe()\n",
    "df_sorted = df.loc[(slice(None), \"average_three_dim\"), :].reset_index(drop=True).drop([\"p_0\", \"p_1\", \"p_2\"], axis=1)"
   ]
  },
  {
   "cell_type": "code",
   "execution_count": 41,
   "metadata": {},
   "outputs": [],
   "source": [
    "grid_probs = df_sorted.loc[:, [\"p_0_true\", \"p_1_true\", \"p_2_true\"]].to_numpy()\n",
    "work_grid = np.array([[0, 0, 0]])\n",
    "values = np.array([])\n",
    "for omega in [0.0, 0.1, 0.2, 0.3, 0.4, 0.5]:\n",
    "    edit_grid = grid_probs\n",
    "    edit_grid[:, 2] = omega\n",
    "    work_grid = np.append(work_grid, grid_probs, axis=0)\n",
    "    values = np.append(values, df_sorted.loc[:, omega].to_numpy(), axis=0)\n",
    "grid = work_grid[1:, :]"
   ]
  },
  {
   "cell_type": "code",
   "execution_count": 99,
   "metadata": {},
   "outputs": [],
   "source": [
    "def create_eval_prob_omega_grid(prob_gridsize, omega_gridsize):\n",
    "    vectors = []\n",
    "    x = y = np.arange(0.01, 0.91, prob_gridsize)\n",
    "    omega_grid = np.arange(0, 0.5, omega_gridsize)\n",
    "    for omega in omega_grid:\n",
    "        for p_1 in x:\n",
    "            for p_2 in y:\n",
    "                if p_1 == 0 or p_2 == 0:\n",
    "                    pass\n",
    "                elif p_1 + p_2 >= 1:\n",
    "                    pass\n",
    "                else:\n",
    "                    vectors += [[p_1, p_2, omega]]\n",
    "    return np.array(vectors).round(2)"
   ]
  },
  {
   "cell_type": "code",
   "execution_count": 100,
   "metadata": {},
   "outputs": [],
   "source": [
    "eval_grid = create_eval_prob_omega_grid(0.01, 0.05)"
   ]
  },
  {
   "cell_type": "code",
   "execution_count": 97,
   "metadata": {},
   "outputs": [
    {
     "data": {
      "text/plain": [
       "array([-83859.99010979, -83644.06614183, -83428.14217387, ...,\n",
       "                   nan,             nan,             nan])"
      ]
     },
     "execution_count": 97,
     "metadata": {},
     "output_type": "execute_result"
    }
   ],
   "source": [
    "interp.griddata(grid, values, eval_grid, method=\"linear\")"
   ]
  }
 ],
 "metadata": {
  "kernelspec": {
   "display_name": "Python 3",
   "language": "python",
   "name": "python3"
  },
  "language_info": {
   "codemirror_mode": {
    "name": "ipython",
    "version": 3
   },
   "file_extension": ".py",
   "mimetype": "text/x-python",
   "name": "python",
   "nbconvert_exporter": "python",
   "pygments_lexer": "ipython3",
   "version": "3.7.7"
  }
 },
 "nbformat": 4,
 "nbformat_minor": 4
}
