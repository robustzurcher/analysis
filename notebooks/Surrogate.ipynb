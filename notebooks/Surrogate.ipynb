{
 "cells": [
  {
   "cell_type": "code",
   "execution_count": 1,
   "metadata": {},
   "outputs": [],
   "source": [
    "import scipy.interpolate as interp\n",
    "from ruspy.estimation.estimation_transitions import create_transition_matrix\n",
    "from ruspy.model_code.cost_functions import calc_obs_costs\n",
    "from ruspy.model_code.cost_functions import lin_cost\n",
    "from ruspy.model_code.fix_point_alg import calc_fixp\n",
    "from config import DATA_DIR"
   ]
  },
  {
   "cell_type": "code",
   "execution_count": 2,
   "metadata": {},
   "outputs": [],
   "source": [
    "# Load data. This step will be replaced when we have different data.\n",
    "df = performance_dataframe()\n",
    "df_meaned = df.mean(level=0)"
   ]
  },
  {
   "cell_type": "markdown",
   "metadata": {},
   "source": [
    "# Evaluation grid\n",
    "\n",
    "Now creat an evaluation grid on which we will later interpolate the performance and then apply the decision criteria."
   ]
  },
  {
   "cell_type": "code",
   "execution_count": 3,
   "metadata": {},
   "outputs": [],
   "source": [
    "# Load the probability grid from the data.\n",
    "grid_probs = pkl.load(open(f\"{DATA_DIR}/grid.pkl\", \"rb\"))"
   ]
  },
  {
   "cell_type": "code",
   "execution_count": 5,
   "metadata": {},
   "outputs": [],
   "source": [
    "# The omega grid only to the maximum selected omega.\n",
    "omega_grid = np.arange(0, 1, 0.01)\n",
    "one_dim_prob_grid = np.arange(0, 0.9, 0.01)\n",
    "one_dim_prob_grid[0] += 0.005\n",
    "interpol_prob_grid = create_prob_grid(one_dim_prob_grid, 3)\n",
    "adapted_grid = interpol_prob_grid[(interpol_prob_grid[:, 0] >= 0.05) & (interpol_prob_grid[:, 1] >= 0.05) & (interpol_prob_grid[:, 0] <= 0.9) & (interpol_prob_grid[:, 1] <= 0.9) & (interpol_prob_grid[:, 2] > 0.1)]"
   ]
  },
  {
   "cell_type": "markdown",
   "metadata": {},
   "source": [
    "# Interpolation and apply criteria"
   ]
  },
  {
   "cell_type": "code",
   "execution_count": 71,
   "metadata": {},
   "outputs": [],
   "source": [
    "omega_interpol_vals = np.zeros((grid_probs.shape[0], len(omega_grid)))\n",
    "for id_grid, gridpoint in enumerate(grid_probs):\n",
    "    omega_interpol_vals[id_grid, :] = interp.griddata(VAL_STRATS, omega_vals[id_grid, :], omega_grid, method=\"linear\")"
   ]
  },
  {
   "cell_type": "code",
   "execution_count": 8,
   "metadata": {},
   "outputs": [
    {
     "data": {
      "text/plain": [
       "(55, 100)"
      ]
     },
     "execution_count": 8,
     "metadata": {},
     "output_type": "execute_result"
    }
   ],
   "source": [
    "omega_interpol_vals.shape"
   ]
  },
  {
   "cell_type": "code",
   "execution_count": 9,
   "metadata": {},
   "outputs": [],
   "source": [
    "final_interpol_vals = np.zeros((adapted_grid.shape[0], len(omega_grid)))\n",
    "for omega_id in range(len(omega_grid)):\n",
    "    final_interpol_vals[:, omega_id] = interp.griddata(grid_probs[:, :2], omega_interpol_vals[:, omega_id], adapted_grid[:, :2], method=\"linear\")"
   ]
  },
  {
   "cell_type": "markdown",
   "metadata": {},
   "source": [
    "## Minimax regret"
   ]
  },
  {
   "cell_type": "code",
   "execution_count": null,
   "metadata": {},
   "outputs": [],
   "source": [
    "# omegas_mean = np.mean(omega_interpol_vals, axis=0)\n",
    "# normalized_mean = filter_normalize(omegas_mean)\n"
   ]
  },
  {
   "cell_type": "code",
   "execution_count": 80,
   "metadata": {},
   "outputs": [],
   "source": [
    "# regrets_omega = df_meaned.loc[:, \"best\"].to_numpy().reshape(55, 1) - omega_interpol_vals\n",
    "# max_regret = np.max(regrets_omega, axis=0)\n",
    "# normalized_regret = filter_normalize(max_regret * -1)"
   ]
  }
 ],
 "metadata": {
  "kernelspec": {
   "display_name": "Python 3",
   "language": "python",
   "name": "python3"
  },
  "language_info": {
   "codemirror_mode": {
    "name": "ipython",
    "version": 3
   },
   "file_extension": ".py",
   "mimetype": "text/x-python",
   "name": "python",
   "nbconvert_exporter": "python",
   "pygments_lexer": "ipython3",
   "version": "3.7.7"
  }
 },
 "nbformat": 4,
 "nbformat_minor": 4
}
