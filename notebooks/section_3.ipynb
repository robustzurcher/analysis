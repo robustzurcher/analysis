{
 "cells": [
  {
   "cell_type": "code",
   "execution_count": 5,
   "metadata": {},
   "outputs": [],
   "source": [
    "import numpy as np\n",
    "import matplotlib.pyplot as plt\n",
    "from scipy.stats import chi2\n",
    "\n",
    "from data.data_reading import data_reading\n",
    "from data.data_processing import data_processing\n",
    "\n",
    "from ruspy.simulation.simulation import simulate\n",
    "from ruspy.simulation.value_zero import calc_ev_0, discount_utility\n",
    "from ruspy.estimation.estimation import estimate\n",
    "from ruspy.estimation.estimation_cost_parameters import (\n",
    "    lin_cost,\n",
    "    cost_func,\n",
    "    create_transition_matrix,\n",
    "    calc_fixp\n",
    ")\n",
    "from scripts.worst_case_probs import calc_fixp_worst"
   ]
  },
  {
   "cell_type": "code",
   "execution_count": 6,
   "metadata": {},
   "outputs": [],
   "source": [
    "# Beta is set almost to one, as the agents objective is to maximize average cost.\n",
    "beta = 0.9999\n",
    "# 200 buses should be enough to gurantee convergence.\n",
    "num_buses = 200\n",
    "# Set the number of simulated periods to 80000. The first plot shows the convergence at this point.\n",
    "num_periods = 80000\n",
    "\n",
    "# Paramters for plotting\n",
    "gridsize = 1000\n",
    "num_points = int(num_periods/gridsize)\n",
    "\n",
    "#Initilize a dictionary with values needed on the way.\n",
    "init_dict = {\n",
    "    'estimation':{\n",
    "        'groups': 'group_4',\n",
    "        'beta': beta,\n",
    "        'maint_func': 'linear',\n",
    "        'binsize': 5000,\n",
    "        'states': 90,\n",
    "    },\n",
    "    'simulation':{\n",
    "        'beta': beta,\n",
    "        'periods': num_periods,\n",
    "        'seed': 123,\n",
    "        'maint_func': 'linear',\n",
    "        'buses': num_buses\n",
    "    }\n",
    "    \n",
    "}\n"
   ]
  },
  {
   "cell_type": "code",
   "execution_count": 7,
   "metadata": {},
   "outputs": [],
   "source": [
    "data_reading()\n",
    "repl_data = data_processing(init_dict['estimation'])"
   ]
  },
  {
   "cell_type": "code",
   "execution_count": 8,
   "metadata": {},
   "outputs": [
    {
     "data": {
      "text/plain": [
       "({'state_count': array([[68, 94,  9, ...,  0,  0,  0],\n",
       "         [ 0, 44, 59, ...,  0,  0,  0],\n",
       "         [ 0,  0, 47, ...,  0,  0,  0],\n",
       "         ...,\n",
       "         [ 0,  0,  0, ...,  1,  1,  0],\n",
       "         [ 0,  0,  0, ...,  0,  1,  1],\n",
       "         [ 0,  0,  0, ...,  0,  0,  1]]),\n",
       "  'x': array([0.39189189, 0.59529357, 0.01281454]),\n",
       "  'fun': 3140.5705570938244,\n",
       "  'trans_count': array([1682, 2555,   55])},\n",
       "       fun: 163.58583995489963\n",
       "  hess_inv: <2x2 LbfgsInvHessProduct with dtype=float64>\n",
       "       jac: array([-7.10542736e-05,  4.14956958e-04])\n",
       "   message: b'CONVERGENCE: REL_REDUCTION_OF_F_<=_FACTR*EPSMCH'\n",
       "      nfev: 45\n",
       "       nit: 12\n",
       "    status: 0\n",
       "   success: True\n",
       "         x: array([10.07807158,  2.29429882]))"
      ]
     },
     "execution_count": 8,
     "metadata": {},
     "output_type": "execute_result"
    }
   ],
   "source": [
    "trans_results, cost_results = estimate(init_dict['estimation'], repl_data, repl_4=True)\n",
    "trans_results, cost_results"
   ]
  },
  {
   "cell_type": "code",
   "execution_count": 9,
   "metadata": {},
   "outputs": [],
   "source": [
    "num_states = 20\n",
    "beta = 0.9999\n",
    "init_dict['simulation'][\"params\"] = params = np.array(cost_results['x'])\n",
    "costs = cost_func(num_states, lin_cost, params)\n",
    "p_ml = np.array(trans_results['x'])\n",
    "omega = 0.95\n",
    "rho = chi2.ppf(omega, len(p_ml) - 1) / (2 * 4292)\n",
    "# rho = 0\n",
    "threshold = 1e-8"
   ]
  },
  {
   "cell_type": "code",
   "execution_count": 27,
   "metadata": {},
   "outputs": [],
   "source": [
    "trans_mat_ml = create_transition_matrix(num_states, p_ml)\n",
    "ev_ml = calc_fixp(num_states, trans_mat_ml, costs, beta, threshold=threshold)"
   ]
  },
  {
   "cell_type": "code",
   "execution_count": null,
   "metadata": {},
   "outputs": [],
   "source": [
    "worst_ev, worst_trans_mat, success, converge_crit = calc_fixp_worst(num_states, p_ml, costs, beta, rho, threshold=threshold)"
   ]
  },
  {
   "cell_type": "code",
   "execution_count": 33,
   "metadata": {},
   "outputs": [
    {
     "data": {
      "text/plain": [
       "[]"
      ]
     },
     "execution_count": 33,
     "metadata": {},
     "output_type": "execute_result"
    },
    {
     "data": {
      "image/png": "[encoded data removed]",
      "text/plain": [
       "<Figure size 1008x432 with 1 Axes>"
      ]
     },
     "metadata": {
      "needs_background": "light"
     },
     "output_type": "display_data"
    }
   ],
   "source": [
    "states = range(num_states)\n",
    "fig = plt.figure(figsize=(14, 6))\n",
    "ax = fig.add_subplot(111)\n",
    "ax.set_ylim([ev_ml[0], worst_ev[-1]])\n",
    "ax.set_ylabel(r\"Value at time 0\",fontsize=12)\n",
    "ax.set_xlabel(r\"Periods\", fontsize=12)\n",
    "ax.plot(states, worst_ev, color='blue', label='Worst case value')\n",
    "ax.plot(states, ev_ml, color='red', label='Nominal value')\n",
    "\n",
    "\n",
    "\n",
    "plt.legend()\n",
    "ax.legend(fontsize=12)\n",
    "plt.tight_layout()\n",
    "\n",
    "plt.plot()"
   ]
  }
 ],
 "metadata": {
  "kernelspec": {
   "display_name": "Python 3",
   "language": "python",
   "name": "python3"
  },
  "language_info": {
   "codemirror_mode": {
    "name": "ipython",
    "version": 3
   },
   "file_extension": ".py",
   "mimetype": "text/x-python",
   "name": "python",
   "nbconvert_exporter": "python",
   "pygments_lexer": "ipython3",
   "version": "3.7.4"
  }
 },
 "nbformat": 4,
 "nbformat_minor": 4
}
