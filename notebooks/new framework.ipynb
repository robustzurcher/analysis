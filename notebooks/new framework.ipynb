{
 "cells": [
  {
   "cell_type": "code",
   "execution_count": 1,
   "metadata": {},
   "outputs": [],
   "source": [
    "import numpy as np\n",
    "from scipy.stats import chi2\n",
    "from functools import partial"
   ]
  },
  {
   "cell_type": "code",
   "execution_count": 2,
   "metadata": {},
   "outputs": [],
   "source": [
    "def root_kullback(q_0, rho, p_0):\n",
    "    return p_0 * np.log(p_0 / q_0) + (1 - p_0) * np.log((1 - p_0) / (1 - q_0)) - rho\n",
    "\n",
    "\n",
    "def get_worst_case_prob(q_0, n, omega):\n",
    "    rho = chi2.ppf(omega, 1) / (2 * n)\n",
    "    root_func = partial(root_kullback, q_0, rho)\n",
    "    grid = np.arange(1e-5, 1 - 1e-5, 1e-5)\n",
    "    vals_grid = root_func(grid)\n",
    "    # Get grid inside set\n",
    "    set_grid = grid[vals_grid < 0]\n",
    "    perf_grid = np.empty_like(set_grid)\n",
    "    for i, val in enumerate(set_grid):\n",
    "        perf_grid[i] = np.mean((val - set_grid) ** 2)\n",
    "    return set_grid[np.argmax(perf_grid)]"
   ]
  },
  {
   "cell_type": "code",
   "execution_count": 3,
   "metadata": {},
   "outputs": [
    {
     "data": {
      "text/plain": [
       "0.25646"
      ]
     },
     "execution_count": 3,
     "metadata": {},
     "output_type": "execute_result"
    }
   ],
   "source": [
    "worst_case_prob = get_worst_case_prob(0.4, 5, 0.5)\n",
    "worst_case_prob"
   ]
  },
  {
   "cell_type": "code",
   "execution_count": null,
   "metadata": {},
   "outputs": [],
   "source": []
  }
 ],
 "metadata": {
  "kernelspec": {
   "display_name": "Python 3",
   "language": "python",
   "name": "python3"
  },
  "language_info": {
   "codemirror_mode": {
    "name": "ipython",
    "version": 3
   },
   "file_extension": ".py",
   "mimetype": "text/x-python",
   "name": "python",
   "nbconvert_exporter": "python",
   "pygments_lexer": "ipython3",
   "version": "3.7.7"
  }
 },
 "nbformat": 4,
 "nbformat_minor": 4
}
