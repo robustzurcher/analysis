{
 "cells": [
  {
   "cell_type": "code",
   "execution_count": 1,
   "metadata": {},
   "outputs": [],
   "source": [
    "def Kullback_Leibler(p, p_ml):\n",
    "    \"\"\"\n",
    "    This function calculate the Kullback Leibler Divergence of p and p_ml.\n",
    "    :param p:\n",
    "    :param p_ml:\n",
    "    :return:\n",
    "    \"\"\"\n",
    "    return np.sum(np.multiply(p, np.log(np.divide(p, p_ml))))"
   ]
  },
  {
   "cell_type": "code",
   "execution_count": 2,
   "metadata": {},
   "outputs": [],
   "source": [
    "def create_set(\n",
    "    p_ml,\n",
    "    roh,\n",
    "    step,\n",
    "    min_grid_p_0,\n",
    "    min_grid_p_1,\n",
    "    max_grid_p_0,\n",
    "    max_grid_p_1,\n",
    "    set_method=\"Kullback\",\n",
    "):\n",
    "    \"\"\"\n",
    "    This function evaluates points in a given grid and returns their coordinate if\n",
    "    they are in the given set.\n",
    "    :param p_ml: Middle point of set\n",
    "    :param roh: set size\n",
    "    :param step: stepsize for grid\n",
    "    :param min_grid_p_0: minimal value of p_0 in the grid\n",
    "    :param min_grid_p_1: minimal value of p_1 in the grid\n",
    "    :param max_grid_p_0: maximal value of p_0 in the grid\n",
    "    :param max_grid_p_1: maximal value of p_1 in the grid\n",
    "    :param set_method: Method to calculate distance between probability vectors\n",
    "    :return:\n",
    "    \"\"\"\n",
    "    if set_method == \"Kullback\":\n",
    "        set_cond = Kullback_Leibler\n",
    "    else:\n",
    "        raise ValueError(\"Set measure not supported.\")\n",
    "    set_coordinates = np.empty(shape=(1, 2))\n",
    "    for p_0 in np.arange(min_grid_p_0, max_grid_p_0, step):\n",
    "        for p_1 in np.arange(min_grid_p_1, max_grid_p_1, step):\n",
    "            p = np.array([p_0, p_1, 1 - p_0 - p_1])\n",
    "            if p[(p > 0) & (p < 1)].size == p.size:\n",
    "                if roh - Kullback_Leibler(p, p_ml) >= 0:\n",
    "                    set_coordinates = np.append(set_coordinates, [[p_0, p_1]], axis=0)\n",
    "    return set_coordinates[1:]"
   ]
  },
  {
   "cell_type": "code",
   "execution_count": 3,
   "metadata": {},
   "outputs": [
    {
     "ename": "AttributeError",
     "evalue": "module 'scipy' has no attribute 'spatial'",
     "output_type": "error",
     "traceback": [
      "\u001b[0;31m---------------------------------------------------------------------------\u001b[0m",
      "\u001b[0;31mAttributeError\u001b[0m                            Traceback (most recent call last)",
      "\u001b[0;32m<ipython-input-3-1e578e8a32df>\u001b[0m in \u001b[0;36m<module>\u001b[0;34m\u001b[0m\n\u001b[1;32m     31\u001b[0m     \u001b[0mmax_grid_p_1\u001b[0m\u001b[0;34m,\u001b[0m\u001b[0;34m\u001b[0m\u001b[0;34m\u001b[0m\u001b[0m\n\u001b[1;32m     32\u001b[0m )\n\u001b[0;32m---> 33\u001b[0;31m \u001b[0mhull\u001b[0m \u001b[0;34m=\u001b[0m \u001b[0msc\u001b[0m\u001b[0;34m.\u001b[0m\u001b[0mspatial\u001b[0m\u001b[0;34m.\u001b[0m\u001b[0mConvexHull\u001b[0m\u001b[0;34m(\u001b[0m\u001b[0mset_probs\u001b[0m\u001b[0;34m)\u001b[0m\u001b[0;34m\u001b[0m\u001b[0;34m\u001b[0m\u001b[0m\n\u001b[0m",
      "\u001b[0;31mAttributeError\u001b[0m: module 'scipy' has no attribute 'spatial'"
     ]
    }
   ],
   "source": [
    "import scipy as sc\n",
    "p_ml_0 = 0.4\n",
    "p_ml_1 = 0.25\n",
    "p_ml_2 = 1 - p_ml_0 - p_ml_1\n",
    "p_ml = np.array([p_ml_0, p_ml_1, p_ml_2])\n",
    "rho = 0.06\n",
    "min_grid_p_0 = min_grid_p_1 = 0\n",
    "max_grid_p_0 = max_grid_p_1 = 1\n",
    "step = 0.01\n",
    "set_probs_pre = create_set(\n",
    "    p_ml,\n",
    "    rho,\n",
    "    step,\n",
    "    min_grid_p_0,\n",
    "    min_grid_p_1,\n",
    "    max_grid_p_0,\n",
    "    max_grid_p_1,\n",
    ")\n",
    "min_grid_p_0 = set_probs_pre[:, 0].min() - step\n",
    "max_grid_p_0 = set_probs_pre[:, 0].max() + step\n",
    "min_grid_p_1 = set_probs_pre[:, 1].min() - step\n",
    "max_grid_p_1 = set_probs_pre[:, 1].max() + step\n",
    "step = 0.001\n",
    "set_probs = create_set(\n",
    "    p_ml,\n",
    "    rho,\n",
    "    step,\n",
    "    min_grid_p_0,\n",
    "    min_grid_p_1,\n",
    "    max_grid_p_0,\n",
    "    max_grid_p_1,\n",
    ")\n",
    "hull = sc.spatial.ConvexHull(set_probs)"
   ]
  },
  {
   "cell_type": "code",
   "execution_count": null,
   "metadata": {},
   "outputs": [],
   "source": [
    "from mpl_toolkits.mplot3d import Axes3D\n",
    "from mpl_toolkits.mplot3d.art3d import Poly3DCollection\n",
    "import matplotlib.pyplot as plt\n",
    "\n",
    "fig = plt.figure(figsize=(10, 10))\n",
    "ax = Axes3D(fig)\n",
    "verts = [[0, 1, 0], [0, 0, 1], [1, 0, 0]]\n",
    "ax.set_xlim3d([1, 0])\n",
    "ax.set_xlabel(r\"Increase by 0\", fontsize=14)\n",
    "ax.set_ylim3d([1, 0])\n",
    "ax.set_ylabel(r\"Increase by 1\", fontsize=14)\n",
    "ax.set_zlim3d([0, 1])\n",
    "ax.set_zlabel(r\"Increase by 2\", fontsize=14)\n",
    "\n",
    "ax.scatter(verts[0], verts[1], zs=verts[2], s=100, label=\"True Position\")\n",
    "for simplex in hull.simplices:\n",
    "    ax.plot3D(\n",
    "        set_probs[simplex, 0],\n",
    "        set_probs[simplex, 1],\n",
    "        (1 - set_probs[simplex, 0] - set_probs[simplex, 1]),\n",
    "        color=\"red\",\n",
    "    )\n",
    "ax.plot3D([p_ml[0]], [p_ml[1]], [p_ml[2]], marker=\"o\", markersize=4, color=\"red\")\n",
    "ax.add_collection3d(Poly3DCollection([verts], facecolor=\"green\", alpha=0.8))\n",
    "plt.savefig(\"../figures/probability_simplex.png\")\n",
    "plt.show()"
   ]
  }
 ],
 "metadata": {
  "kernelspec": {
   "display_name": "Python 3",
   "language": "python",
   "name": "python3"
  },
  "language_info": {
   "codemirror_mode": {
    "name": "ipython",
    "version": 3
   },
   "file_extension": ".py",
   "mimetype": "text/x-python",
   "name": "python",
   "nbconvert_exporter": "python",
   "pygments_lexer": "ipython3",
   "version": "3.7.4"
  }
 },
 "nbformat": 4,
 "nbformat_minor": 4
}
