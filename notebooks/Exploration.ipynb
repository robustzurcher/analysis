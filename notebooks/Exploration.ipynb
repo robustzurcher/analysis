{
 "cells": [
  {
   "cell_type": "code",
   "execution_count": 1,
   "metadata": {},
   "outputs": [],
   "source": [
    "from data.data_reading import data_reading\n",
    "from data.data_processing import data_processing\n",
    "from ruspy.estimation.estimation_transitions import estimate_transitions\n",
    "import numpy as np\n",
    "from scipy.optimize import minimize\n",
    "from scipy.stats import chi2"
   ]
  },
  {
   "cell_type": "code",
   "execution_count": 2,
   "metadata": {},
   "outputs": [],
   "source": [
    "beta = 0.9999\n",
    "init_dict = {\n",
    "    \"groups\": \"group_4\",\n",
    "    \"binsize\": 1000,\n",
    "}"
   ]
  },
  {
   "cell_type": "code",
   "execution_count": 3,
   "metadata": {},
   "outputs": [],
   "source": [
    "data_reading()\n",
    "repl_data = data_processing(init_dict)"
   ]
  },
  {
   "cell_type": "code",
   "execution_count": 4,
   "metadata": {},
   "outputs": [
    {
     "name": "stdout",
     "output_type": "stream",
     "text": [
      "{'state_count': array([[29, 12, 10, ...,  0,  0,  0],\n",
      "       [ 0, 12,  2, ...,  0,  0,  0],\n",
      "       [ 0,  0,  6, ...,  0,  0,  0],\n",
      "       ...,\n",
      "       [ 0,  0,  0, ...,  0,  0,  1],\n",
      "       [ 0,  0,  0, ...,  0,  0,  0],\n",
      "       [ 0,  0,  0, ...,  0,  0,  0]]), 'x': array([2.86579683e-02, 8.10810811e-02, 2.79123952e-01, 2.46039143e-01,\n",
      "       1.81733458e-01, 1.30242311e-01, 4.65983225e-02, 3.72786580e-03,\n",
      "       4.65983225e-04, 6.98974837e-04, 9.31966449e-04, 4.65983225e-04,\n",
      "       2.32991612e-04]), 'fun': 7581.755518761861, 'trans_count': array([ 123,  348, 1198, 1056,  780,  559,  200,   16,    2,    3,    4,\n",
      "          2,    1])}\n"
     ]
    }
   ],
   "source": [
    "trans_results = estimate_transitions(repl_data)\n",
    "print(trans_results)"
   ]
  },
  {
   "cell_type": "code",
   "execution_count": 5,
   "metadata": {},
   "outputs": [],
   "source": [
    "def loglike(trans_probs, transition_count):\n",
    "    trans_probs_scale = trans_probs - np.max(trans_probs)\n",
    "    log_p  = np.log(np.exp(trans_probs_scale) / np.sum(np.exp(trans_probs_scale)))\n",
    "    return - np.sum(np.multiply(transition_count, log_p))"
   ]
  },
  {
   "cell_type": "code",
   "execution_count": 6,
   "metadata": {},
   "outputs": [],
   "source": [
    "scale = 388"
   ]
  },
  {
   "cell_type": "code",
   "execution_count": 7,
   "metadata": {
    "scrolled": true
   },
   "outputs": [],
   "source": [
    "res = minimize(loglike, [0.2] * len(trans_results[\"x\"]), args=trans_results[\"trans_count\"] / scale)"
   ]
  },
  {
   "cell_type": "code",
   "execution_count": 8,
   "metadata": {},
   "outputs": [],
   "source": [
    "params_internal = res[\"x\"]\n",
    "cov_internal = res[\"hess_inv\"]\n",
    "p_external = np.exp(res[\"x\"]) / np.sum(np.exp(res[\"x\"]))"
   ]
  },
  {
   "cell_type": "code",
   "execution_count": 9,
   "metadata": {},
   "outputs": [
    {
     "data": {
      "text/plain": [
       "array([ 5.49742141e-08,  1.41581710e-08,  1.48564346e-08,  1.91965391e-09,\n",
       "        4.27612097e-08, -4.70474770e-08, -4.44653534e-08,  7.84237646e-09,\n",
       "       -7.32534274e-08,  7.28785590e-08,  1.49562359e-09, -7.93807326e-08,\n",
       "        3.32607479e-08])"
      ]
     },
     "execution_count": 9,
     "metadata": {},
     "output_type": "execute_result"
    }
   ],
   "source": [
    "trans_results[\"x\"] - p_external"
   ]
  },
  {
   "cell_type": "code",
   "execution_count": 10,
   "metadata": {},
   "outputs": [],
   "source": [
    "def Kullback_Leibler(p, p_ml):\n",
    "    \"\"\"\n",
    "    This function calculate the Kullback Leibler Divergence of p and p_ml.\n",
    "    :param p:\n",
    "    :param p_ml:\n",
    "    :return:\n",
    "    \"\"\"\n",
    "    return np.sum(np.log(np.divide(p, p_ml)))"
   ]
  },
  {
   "cell_type": "code",
   "execution_count": 11,
   "metadata": {},
   "outputs": [],
   "source": [
    "obs_per_state = 4292 / scale\n",
    "rho = chi2.ppf(0.5, len(p_external) - 1) / (2 * obs_per_state)"
   ]
  },
  {
   "cell_type": "code",
   "execution_count": 12,
   "metadata": {},
   "outputs": [
    {
     "data": {
      "text/plain": [
       "0.024"
      ]
     },
     "execution_count": 12,
     "metadata": {},
     "output_type": "execute_result"
    }
   ],
   "source": [
    "sum = 0\n",
    "for i in range(1000):\n",
    "    draw = np.random.multivariate_normal(params_internal, cov_internal)\n",
    "    p = np.exp(draw) / np.sum(np.exp(draw))\n",
    "    if Kullback_Leibler(p, p_external) > rho:\n",
    "        sum += 1\n",
    "sum / 1000"
   ]
  }
 ],
 "metadata": {
  "kernelspec": {
   "display_name": "Python 3",
   "language": "python",
   "name": "python3"
  },
  "language_info": {
   "codemirror_mode": {
    "name": "ipython",
    "version": 3
   },
   "file_extension": ".py",
   "mimetype": "text/x-python",
   "name": "python",
   "nbconvert_exporter": "python",
   "pygments_lexer": "ipython3",
   "version": "3.6.9"
  }
 },
 "nbformat": 4,
 "nbformat_minor": 2
}
