{
 "cells": [
  {
   "cell_type": "code",
   "execution_count": 1,
   "metadata": {},
   "outputs": [],
   "source": [
    "import scipy.interpolate as interp\n",
    "from ruspy.estimation.estimation_transitions import create_transition_matrix\n",
    "from ruspy.model_code.cost_functions import calc_obs_costs\n",
    "from ruspy.model_code.cost_functions import lin_cost\n",
    "from ruspy.model_code.fix_point_alg import calc_fixp\n",
    "from config import DATA_DIR\n",
    "from global_vals_funcs import VAL_RESULTS"
   ]
  },
  {
   "cell_type": "code",
   "execution_count": 2,
   "metadata": {},
   "outputs": [],
   "source": [
    "# Load data. This step will be replaced when we have different data.\n",
    "df = performance_dataframe()\n",
    "df_meaned = df.mean(level=0)"
   ]
  },
  {
   "cell_type": "code",
   "execution_count": 4,
   "metadata": {},
   "outputs": [],
   "source": [
    "# Load the probability grid from the data.\n",
    "grid_probs = pkl.load(open(f\"{DATA_DIR}/grid.pkl\", \"rb\"))\n",
    "samples = pkl.load(open(f\"{DATA_DIR}/samples.pkl\", \"rb\"))"
   ]
  },
  {
   "cell_type": "code",
   "execution_count": 41,
   "metadata": {},
   "outputs": [
    {
     "data": {
      "text/plain": [
       "array([[0.005, 0.005, 0.99 ],\n",
       "       [0.005, 0.1  , 0.895],\n",
       "       [0.005, 0.2  , 0.795],\n",
       "       [0.005, 0.3  , 0.695],\n",
       "       [0.005, 0.4  , 0.595],\n",
       "       [0.005, 0.5  , 0.495],\n",
       "       [0.005, 0.6  , 0.395],\n",
       "       [0.005, 0.7  , 0.295],\n",
       "       [0.005, 0.8  , 0.195],\n",
       "       [0.005, 0.9  , 0.095],\n",
       "       [0.005, 0.99 , 0.005],\n",
       "       [0.1  , 0.005, 0.895],\n",
       "       [0.1  , 0.1  , 0.8  ],\n",
       "       [0.1  , 0.2  , 0.7  ],\n",
       "       [0.1  , 0.3  , 0.6  ],\n",
       "       [0.1  , 0.4  , 0.5  ],\n",
       "       [0.1  , 0.5  , 0.4  ],\n",
       "       [0.1  , 0.6  , 0.3  ],\n",
       "       [0.1  , 0.7  , 0.2  ],\n",
       "       [0.1  , 0.8  , 0.1  ],\n",
       "       [0.2  , 0.005, 0.795],\n",
       "       [0.2  , 0.1  , 0.7  ],\n",
       "       [0.2  , 0.2  , 0.6  ],\n",
       "       [0.2  , 0.3  , 0.5  ],\n",
       "       [0.2  , 0.4  , 0.4  ],\n",
       "       [0.2  , 0.5  , 0.3  ],\n",
       "       [0.2  , 0.6  , 0.2  ],\n",
       "       [0.2  , 0.7  , 0.1  ],\n",
       "       [0.3  , 0.005, 0.695],\n",
       "       [0.3  , 0.1  , 0.6  ],\n",
       "       [0.3  , 0.2  , 0.5  ],\n",
       "       [0.3  , 0.3  , 0.4  ],\n",
       "       [0.3  , 0.4  , 0.3  ],\n",
       "       [0.3  , 0.5  , 0.2  ],\n",
       "       [0.3  , 0.6  , 0.1  ],\n",
       "       [0.4  , 0.005, 0.595],\n",
       "       [0.4  , 0.1  , 0.5  ],\n",
       "       [0.4  , 0.2  , 0.4  ],\n",
       "       [0.4  , 0.3  , 0.3  ],\n",
       "       [0.4  , 0.4  , 0.2  ],\n",
       "       [0.4  , 0.5  , 0.1  ],\n",
       "       [0.5  , 0.005, 0.495],\n",
       "       [0.5  , 0.1  , 0.4  ],\n",
       "       [0.5  , 0.2  , 0.3  ],\n",
       "       [0.5  , 0.3  , 0.2  ],\n",
       "       [0.5  , 0.4  , 0.1  ],\n",
       "       [0.6  , 0.005, 0.395],\n",
       "       [0.6  , 0.1  , 0.3  ],\n",
       "       [0.6  , 0.2  , 0.2  ],\n",
       "       [0.6  , 0.3  , 0.1  ],\n",
       "       [0.7  , 0.005, 0.295],\n",
       "       [0.7  , 0.1  , 0.2  ],\n",
       "       [0.7  , 0.2  , 0.1  ],\n",
       "       [0.8  , 0.005, 0.195],\n",
       "       [0.8  , 0.1  , 0.1  ],\n",
       "       [0.9  , 0.005, 0.095],\n",
       "       [0.99 , 0.005, 0.005]])"
      ]
     },
     "execution_count": 41,
     "metadata": {},
     "output_type": "execute_result"
    }
   ],
   "source": [
    "grid_probs"
   ]
  },
  {
   "cell_type": "code",
   "execution_count": 39,
   "metadata": {},
   "outputs": [
    {
     "data": {
      "text/plain": [
       "id_grid\n",
       "0      -0.283448\n",
       "1       0.067361\n",
       "2       0.640821\n",
       "3       1.055440\n",
       "4       1.602597\n",
       "5       3.210129\n",
       "6       3.531142\n",
       "7       3.735152\n",
       "8       3.720133\n",
       "9       2.659549\n",
       "10      0.287734\n",
       "11      0.979060\n",
       "12      1.714588\n",
       "13      2.191954\n",
       "14      2.774590\n",
       "15      2.923306\n",
       "16      4.719870\n",
       "17      5.076685\n",
       "18      4.385009\n",
       "19      3.556092\n",
       "20      3.139155\n",
       "21      3.724823\n",
       "22      3.738771\n",
       "23      4.283365\n",
       "24      5.167975\n",
       "25      7.055926\n",
       "26      6.568014\n",
       "27      5.741855\n",
       "28      5.239532\n",
       "29      5.542003\n",
       "30      6.161285\n",
       "31      6.775567\n",
       "32      8.232594\n",
       "33      8.499916\n",
       "34      7.300975\n",
       "35      8.334295\n",
       "36      8.491474\n",
       "37      8.711452\n",
       "38     11.662742\n",
       "39     10.993177\n",
       "40     10.092224\n",
       "41     11.483353\n",
       "42     10.571616\n",
       "43     11.162493\n",
       "44     13.091225\n",
       "45     12.077155\n",
       "46     -2.224277\n",
       "47     -6.140130\n",
       "48      2.768408\n",
       "49      3.102475\n",
       "50     -3.876606\n",
       "51    -10.169596\n",
       "52      6.255646\n",
       "53    -15.834267\n",
       "54    -11.538364\n",
       "55    -49.420498\n",
       "56    218.256778\n",
       "dtype: float64"
      ]
     },
     "execution_count": 39,
     "metadata": {},
     "output_type": "execute_result"
    }
   ],
   "source": [
    "df_meaned.loc[:, 0.0] - df_meaned.loc[:, 0.1]"
   ]
  },
  {
   "cell_type": "code",
   "execution_count": 33,
   "metadata": {},
   "outputs": [
    {
     "data": {
      "text/plain": [
       "array([0.005, 0.01 , 0.02 , 0.03 , 0.04 , 0.05 , 0.06 , 0.07 , 0.08 ,\n",
       "       0.09 , 0.1  , 0.11 , 0.12 , 0.13 , 0.14 , 0.15 , 0.16 , 0.17 ,\n",
       "       0.18 , 0.19 , 0.2  , 0.21 , 0.22 , 0.23 , 0.24 , 0.25 , 0.26 ,\n",
       "       0.27 , 0.28 , 0.29 , 0.3  , 0.31 , 0.32 , 0.33 , 0.34 , 0.35 ,\n",
       "       0.36 , 0.37 , 0.38 , 0.39 , 0.4  , 0.41 , 0.42 , 0.43 , 0.44 ,\n",
       "       0.45 , 0.46 , 0.47 , 0.48 , 0.49 , 0.5  , 0.51 , 0.52 , 0.53 ,\n",
       "       0.54 , 0.55 , 0.56 , 0.57 , 0.58 , 0.59 , 0.6  , 0.61 , 0.62 ,\n",
       "       0.63 , 0.64 , 0.65 , 0.66 , 0.67 , 0.68 , 0.69 , 0.7  , 0.71 ,\n",
       "       0.72 , 0.73 , 0.74 , 0.75 , 0.76 , 0.77 , 0.78 , 0.79 , 0.8  ,\n",
       "       0.81 , 0.82 , 0.83 , 0.84 , 0.85 , 0.86 , 0.87 , 0.88 , 0.89 ,\n",
       "       0.9  , 0.91 , 0.92 , 0.93 , 0.94 , 0.95 , 0.96 , 0.97 , 0.98 ,\n",
       "       0.99 ])"
      ]
     },
     "execution_count": 33,
     "metadata": {},
     "output_type": "execute_result"
    }
   ],
   "source": [
    "one_dim_eval_grid =  np.append(np.array([0.005]), np.arange(0.01, 1, 0.01))\n",
    "one_dim_eval_grid"
   ]
  },
  {
   "cell_type": "code",
   "execution_count": 34,
   "metadata": {},
   "outputs": [
    {
     "data": {
      "text/plain": [
       "array([[0.005, 0.005, 0.99 ],\n",
       "       [0.005, 0.01 , 0.985],\n",
       "       [0.005, 0.02 , 0.975],\n",
       "       ...,\n",
       "       [0.98 , 0.005, 0.015],\n",
       "       [0.98 , 0.01 , 0.01 ],\n",
       "       [0.99 , 0.005, 0.005]])"
      ]
     },
     "execution_count": 34,
     "metadata": {},
     "output_type": "execute_result"
    }
   ],
   "source": [
    "eval_grid = create_prob_grid(one_dim_eval_grid, 3)\n",
    "eval_grid"
   ]
  },
  {
   "cell_type": "markdown",
   "metadata": {},
   "source": [
    "# Interpolation and apply criteria"
   ]
  },
  {
   "cell_type": "code",
   "execution_count": 35,
   "metadata": {},
   "outputs": [
    {
     "data": {
      "text/plain": [
       "(57,)"
      ]
     },
     "execution_count": 35,
     "metadata": {},
     "output_type": "execute_result"
    }
   ],
   "source": [
    "omega_vals = df_meaned.loc[:, 0.1].to_numpy()\n",
    "omega_vals.shape"
   ]
  },
  {
   "cell_type": "code",
   "execution_count": 36,
   "metadata": {},
   "outputs": [
    {
     "data": {
      "text/plain": [
       "-5.298317366548036"
      ]
     },
     "execution_count": 36,
     "metadata": {},
     "output_type": "execute_result"
    }
   ],
   "source": [
    "np.log(0.005)"
   ]
  },
  {
   "cell_type": "code",
   "execution_count": 37,
   "metadata": {},
   "outputs": [
    {
     "data": {
      "text/plain": [
       "array([-84149.04846702, -84041.36854556, -83826.00870265, ...,\n",
       "        -7248.17442892,  -6492.40407053,  -5127.57832264])"
      ]
     },
     "execution_count": 37,
     "metadata": {},
     "output_type": "execute_result"
    }
   ],
   "source": [
    "interp.griddata(grid_probs[:, :2], omega_vals, eval_grid[:, :2], method=\"linear\")"
   ]
  },
  {
   "cell_type": "code",
   "execution_count": 29,
   "metadata": {},
   "outputs": [
    {
     "data": {
      "text/plain": [
       "array([0.99 , 0.005, 0.005])"
      ]
     },
     "execution_count": 29,
     "metadata": {},
     "output_type": "execute_result"
    }
   ],
   "source": [
    "grid_probs[-1, :]"
   ]
  },
  {
   "cell_type": "code",
   "execution_count": 28,
   "metadata": {},
   "outputs": [
    {
     "data": {
      "text/plain": [
       "array([-84149.04846702, -82103.12995931, -79901.8551214 , -77647.02686461,\n",
       "       -75335.57302008, -72965.96876805, -70529.65671891, -68024.24665472,\n",
       "       -65444.2856395 , -62784.1377063 , -60314.42622636, -79823.37621476,\n",
       "       -77674.63124476, -75355.44203741, -72976.04571653, -70530.83583672,\n",
       "       -68025.22377555, -65433.21214939, -62755.76925518, -59988.99053201,\n",
       "       -75018.45059884, -72741.03455963, -70279.44745778, -67745.686563  ,\n",
       "       -65130.87268396, -62440.88036552, -59646.08892115, -56750.0089129 ,\n",
       "       -69906.66900633, -67474.49396847, -64838.34295022, -62112.23967109,\n",
       "       -59303.03313383, -56371.461096  , -53320.39229255, -64419.79070332,\n",
       "       -61798.48238563, -58942.30557997, -55989.36011693, -52895.54483529,\n",
       "       -49660.86213521, -58445.82411476, -55581.97125437, -52438.10374124,\n",
       "       -49168.69777255, -45708.93640301, -51859.81559756, -48682.77308216,\n",
       "       -45126.45719213, -41386.52457161, -44385.93798096, -40734.16022616,\n",
       "       -36581.00479878, -35548.21599119, -31059.26753257, -24212.9432792 ,\n",
       "        -5127.57832264])"
      ]
     },
     "execution_count": 28,
     "metadata": {},
     "output_type": "execute_result"
    }
   ],
   "source": [
    "omega_vals"
   ]
  },
  {
   "cell_type": "code",
   "execution_count": 16,
   "metadata": {},
   "outputs": [],
   "source": [
    "omega_interpol_vals = np.zeros((grid_probs.shape[0], len(omega_grid)))\n",
    "for id_grid, gridpoint in enumerate(grid_probs):\n",
    "    omega_interpol_vals[id_grid, :] = interp.griddata(VAL_STRATS, omega_vals[id_grid, :], omega_grid, method=\"linear\")"
   ]
  },
  {
   "cell_type": "code",
   "execution_count": 17,
   "metadata": {},
   "outputs": [
    {
     "data": {
      "text/plain": [
       "(55, 100)"
      ]
     },
     "execution_count": 17,
     "metadata": {},
     "output_type": "execute_result"
    }
   ],
   "source": [
    "omega_interpol_vals.shape"
   ]
  },
  {
   "cell_type": "code",
   "execution_count": 18,
   "metadata": {},
   "outputs": [],
   "source": [
    "final_interpol_vals = np.zeros((adapted_grid.shape[0], len(omega_grid)))\n",
    "for omega_id in range(len(omega_grid)):\n",
    "    final_interpol_vals[:, omega_id] = interp.griddata(grid_probs[:, :2], omega_interpol_vals[:, omega_id], adapted_grid[:, :2], method=\"linear\")"
   ]
  },
  {
   "cell_type": "markdown",
   "metadata": {},
   "source": [
    "## Minimax regret"
   ]
  },
  {
   "cell_type": "code",
   "execution_count": 19,
   "metadata": {},
   "outputs": [],
   "source": [
    "# omegas_mean = np.mean(omega_interpol_vals, axis=0)\n",
    "# normalized_mean = filter_normalize(omegas_mean)\n"
   ]
  },
  {
   "cell_type": "code",
   "execution_count": 20,
   "metadata": {},
   "outputs": [],
   "source": [
    "# regrets_omega = df_meaned.loc[:, \"best\"].to_numpy().reshape(55, 1) - omega_interpol_vals\n",
    "# max_regret = np.max(regrets_omega, axis=0)\n",
    "# normalized_regret = filter_normalize(max_regret * -1)"
   ]
  },
  {
   "cell_type": "code",
   "execution_count": 21,
   "metadata": {},
   "outputs": [
    {
     "data": {
      "text/html": [
       "<div>\n",
       "<style scoped>\n",
       "    .dataframe tbody tr th:only-of-type {\n",
       "        vertical-align: middle;\n",
       "    }\n",
       "\n",
       "    .dataframe tbody tr th {\n",
       "        vertical-align: top;\n",
       "    }\n",
       "\n",
       "    .dataframe thead th {\n",
       "        text-align: right;\n",
       "    }\n",
       "</style>\n",
       "<table border=\"1\" class=\"dataframe\">\n",
       "  <thead>\n",
       "    <tr style=\"text-align: right;\">\n",
       "      <th></th>\n",
       "      <th>months</th>\n",
       "      <th>disc_strategy</th>\n",
       "      <th>exp_value</th>\n",
       "    </tr>\n",
       "  </thead>\n",
       "  <tbody>\n",
       "    <tr>\n",
       "      <th>0</th>\n",
       "      <td>0</td>\n",
       "      <td>0.000000</td>\n",
       "      <td>-46985.962594</td>\n",
       "    </tr>\n",
       "    <tr>\n",
       "      <th>1</th>\n",
       "      <td>1000</td>\n",
       "      <td>-5051.336957</td>\n",
       "      <td>-46985.962594</td>\n",
       "    </tr>\n",
       "    <tr>\n",
       "      <th>2</th>\n",
       "      <td>2000</td>\n",
       "      <td>-9653.143746</td>\n",
       "      <td>-46985.962594</td>\n",
       "    </tr>\n",
       "    <tr>\n",
       "      <th>3</th>\n",
       "      <td>3000</td>\n",
       "      <td>-13812.102103</td>\n",
       "      <td>-46985.962594</td>\n",
       "    </tr>\n",
       "    <tr>\n",
       "      <th>4</th>\n",
       "      <td>4000</td>\n",
       "      <td>-17579.902280</td>\n",
       "      <td>-46985.962594</td>\n",
       "    </tr>\n",
       "    <tr>\n",
       "      <th>...</th>\n",
       "      <td>...</td>\n",
       "      <td>...</td>\n",
       "      <td>...</td>\n",
       "    </tr>\n",
       "    <tr>\n",
       "      <th>96</th>\n",
       "      <td>96000</td>\n",
       "      <td>-53390.028609</td>\n",
       "      <td>-46985.962594</td>\n",
       "    </tr>\n",
       "    <tr>\n",
       "      <th>97</th>\n",
       "      <td>97000</td>\n",
       "      <td>-53390.372477</td>\n",
       "      <td>-46985.962594</td>\n",
       "    </tr>\n",
       "    <tr>\n",
       "      <th>98</th>\n",
       "      <td>98000</td>\n",
       "      <td>-53390.683862</td>\n",
       "      <td>-46985.962594</td>\n",
       "    </tr>\n",
       "    <tr>\n",
       "      <th>99</th>\n",
       "      <td>99000</td>\n",
       "      <td>-53390.965687</td>\n",
       "      <td>-46985.962594</td>\n",
       "    </tr>\n",
       "    <tr>\n",
       "      <th>100</th>\n",
       "      <td>100000</td>\n",
       "      <td>-53391.220789</td>\n",
       "      <td>-46985.962594</td>\n",
       "    </tr>\n",
       "  </tbody>\n",
       "</table>\n",
       "<p>101 rows × 3 columns</p>\n",
       "</div>"
      ],
      "text/plain": [
       "     months  disc_strategy     exp_value\n",
       "0         0       0.000000 -46985.962594\n",
       "1      1000   -5051.336957 -46985.962594\n",
       "2      2000   -9653.143746 -46985.962594\n",
       "3      3000  -13812.102103 -46985.962594\n",
       "4      4000  -17579.902280 -46985.962594\n",
       "..      ...            ...           ...\n",
       "96    96000  -53390.028609 -46985.962594\n",
       "97    97000  -53390.372477 -46985.962594\n",
       "98    98000  -53390.683862 -46985.962594\n",
       "99    99000  -53390.965687 -46985.962594\n",
       "100  100000  -53391.220789 -46985.962594\n",
       "\n",
       "[101 rows x 3 columns]"
      ]
     },
     "execution_count": 21,
     "metadata": {},
     "output_type": "execute_result"
    }
   ],
   "source": [
    "get_decision_rule_df()"
   ]
  }
 ],
 "metadata": {
  "kernelspec": {
   "display_name": "Python 3",
   "language": "python",
   "name": "python3"
  },
  "language_info": {
   "codemirror_mode": {
    "name": "ipython",
    "version": 3
   },
   "file_extension": ".py",
   "mimetype": "text/x-python",
   "name": "python",
   "nbconvert_exporter": "python",
   "pygments_lexer": "ipython3",
   "version": "3.7.7"
  }
 },
 "nbformat": 4,
 "nbformat_minor": 4
}
